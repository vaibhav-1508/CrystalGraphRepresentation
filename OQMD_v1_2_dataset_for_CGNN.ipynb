{
  "nbformat": 4,
  "nbformat_minor": 0,
  "metadata": {
    "colab": {
      "name": "OQMD v1.2 dataset for CGNN.ipynb",
      "provenance": [],
      "include_colab_link": true
    },
    "kernelspec": {
      "name": "python3",
      "display_name": "Python 3"
    },
    "language_info": {
      "name": "python"
    },
    "widgets": {
      "application/vnd.jupyter.widget-state+json": {
        "84c8b5bf52f742aba68e0315b7c97fae": {
          "model_module": "@jupyter-widgets/controls",
          "model_name": "HBoxModel",
          "model_module_version": "1.5.0",
          "state": {
            "_dom_classes": [],
            "_model_module": "@jupyter-widgets/controls",
            "_model_module_version": "1.5.0",
            "_model_name": "HBoxModel",
            "_view_count": null,
            "_view_module": "@jupyter-widgets/controls",
            "_view_module_version": "1.5.0",
            "_view_name": "HBoxView",
            "box_style": "",
            "children": [
              "IPY_MODEL_a973cf40ef9f4c68b1fd9a1e6b39ef8b",
              "IPY_MODEL_f17dcc9194284d9a91cbef65d4fd5b6a",
              "IPY_MODEL_e665584eb5b54812948104b0f214a25d",
              "IPY_MODEL_4cc25592d6c143e696ef495253b40642",
              "IPY_MODEL_37e14ebcba46413c89b40ab04557a49a"
            ],
            "layout": "IPY_MODEL_efdc208e2bd14c1f8f40fb46019c033b"
          }
        },
        "a973cf40ef9f4c68b1fd9a1e6b39ef8b": {
          "model_module": "@jupyter-widgets/controls",
          "model_name": "VBoxModel",
          "model_module_version": "1.5.0",
          "state": {
            "_dom_classes": [],
            "_model_module": "@jupyter-widgets/controls",
            "_model_module_version": "1.5.0",
            "_model_name": "VBoxModel",
            "_view_count": null,
            "_view_module": "@jupyter-widgets/controls",
            "_view_module_version": "1.5.0",
            "_view_name": "VBoxView",
            "box_style": "",
            "children": [
              "IPY_MODEL_d0e73c3ff6eb48d6a33148f6235f8920",
              "IPY_MODEL_5a32b1f872dd4535b385831416791660"
            ],
            "layout": "IPY_MODEL_b8fc62788dc544f8963a3967c1eafc9a"
          }
        },
        "f17dcc9194284d9a91cbef65d4fd5b6a": {
          "model_module": "@jupyter-widgets/controls",
          "model_name": "VBoxModel",
          "model_module_version": "1.5.0",
          "state": {
            "_dom_classes": [],
            "_model_module": "@jupyter-widgets/controls",
            "_model_module_version": "1.5.0",
            "_model_name": "VBoxModel",
            "_view_count": null,
            "_view_module": "@jupyter-widgets/controls",
            "_view_module_version": "1.5.0",
            "_view_name": "VBoxView",
            "box_style": "",
            "children": [
              "IPY_MODEL_8f51930ca4984a8e9b8a85a4e217b490",
              "IPY_MODEL_eda2679160334491a5b63f8c032eb03a"
            ],
            "layout": "IPY_MODEL_c31bc93f488644e5ae111920708356cc"
          }
        },
        "e665584eb5b54812948104b0f214a25d": {
          "model_module": "@jupyter-widgets/controls",
          "model_name": "VBoxModel",
          "model_module_version": "1.5.0",
          "state": {
            "_dom_classes": [],
            "_model_module": "@jupyter-widgets/controls",
            "_model_module_version": "1.5.0",
            "_model_name": "VBoxModel",
            "_view_count": null,
            "_view_module": "@jupyter-widgets/controls",
            "_view_module_version": "1.5.0",
            "_view_name": "VBoxView",
            "box_style": "",
            "children": [
              "IPY_MODEL_3efeb769682b41b0872b9f037bf7c539",
              "IPY_MODEL_70d1504badd0456ca8b8f3c15c6a5627"
            ],
            "layout": "IPY_MODEL_5807805c727242048772e9602c46aaf3"
          }
        },
        "4cc25592d6c143e696ef495253b40642": {
          "model_module": "@jupyter-widgets/controls",
          "model_name": "VBoxModel",
          "model_module_version": "1.5.0",
          "state": {
            "_dom_classes": [],
            "_model_module": "@jupyter-widgets/controls",
            "_model_module_version": "1.5.0",
            "_model_name": "VBoxModel",
            "_view_count": null,
            "_view_module": "@jupyter-widgets/controls",
            "_view_module_version": "1.5.0",
            "_view_name": "VBoxView",
            "box_style": "",
            "children": [
              "IPY_MODEL_7d928e6c37fb4f8cb2304ede6cdb24d6",
              "IPY_MODEL_e1f5b5fb85654d55b2f4353a41ea736d"
            ],
            "layout": "IPY_MODEL_57007359fd814144b7eb3ab74bef61e7"
          }
        },
        "37e14ebcba46413c89b40ab04557a49a": {
          "model_module": "@jupyter-widgets/controls",
          "model_name": "VBoxModel",
          "model_module_version": "1.5.0",
          "state": {
            "_dom_classes": [],
            "_model_module": "@jupyter-widgets/controls",
            "_model_module_version": "1.5.0",
            "_model_name": "VBoxModel",
            "_view_count": null,
            "_view_module": "@jupyter-widgets/controls",
            "_view_module_version": "1.5.0",
            "_view_name": "VBoxView",
            "box_style": "",
            "children": [
              "IPY_MODEL_252a05bfbedf467d941a46c4bdd34507",
              "IPY_MODEL_949a2d321539450998119773301bc1a9"
            ],
            "layout": "IPY_MODEL_a543a5b35e784b6981ef45c6117c67cd"
          }
        },
        "efdc208e2bd14c1f8f40fb46019c033b": {
          "model_module": "@jupyter-widgets/base",
          "model_name": "LayoutModel",
          "model_module_version": "1.2.0",
          "state": {
            "_model_module": "@jupyter-widgets/base",
            "_model_module_version": "1.2.0",
            "_model_name": "LayoutModel",
            "_view_count": null,
            "_view_module": "@jupyter-widgets/base",
            "_view_module_version": "1.2.0",
            "_view_name": "LayoutView",
            "align_content": null,
            "align_items": null,
            "align_self": null,
            "border": null,
            "bottom": null,
            "display": null,
            "flex": null,
            "flex_flow": null,
            "grid_area": null,
            "grid_auto_columns": null,
            "grid_auto_flow": null,
            "grid_auto_rows": null,
            "grid_column": null,
            "grid_gap": null,
            "grid_row": null,
            "grid_template_areas": null,
            "grid_template_columns": null,
            "grid_template_rows": null,
            "height": null,
            "justify_content": null,
            "justify_items": null,
            "left": null,
            "margin": null,
            "max_height": null,
            "max_width": null,
            "min_height": null,
            "min_width": null,
            "object_fit": null,
            "object_position": null,
            "order": null,
            "overflow": null,
            "overflow_x": null,
            "overflow_y": null,
            "padding": null,
            "right": null,
            "top": null,
            "visibility": null,
            "width": null
          }
        },
        "d0e73c3ff6eb48d6a33148f6235f8920": {
          "model_module": "@jupyter-widgets/controls",
          "model_name": "HTMLModel",
          "model_module_version": "1.5.0",
          "state": {
            "_dom_classes": [],
            "_model_module": "@jupyter-widgets/controls",
            "_model_module_version": "1.5.0",
            "_model_name": "HTMLModel",
            "_view_count": null,
            "_view_module": "@jupyter-widgets/controls",
            "_view_module_version": "1.5.0",
            "_view_name": "HTMLView",
            "description": "",
            "description_tooltip": null,
            "layout": "IPY_MODEL_a22413be32d04d8082ad21d1bdbb843d",
            "placeholder": "​",
            "style": "IPY_MODEL_359c6546d16c415095018cd820b9b5a0",
            "value": "oqmd-13238"
          }
        },
        "5a32b1f872dd4535b385831416791660": {
          "model_module": "@jupyter-widgets/controls",
          "model_name": "ImageModel",
          "model_module_version": "1.5.0",
          "state": {
            "_dom_classes": [],
            "_model_module": "@jupyter-widgets/controls",
            "_model_module_version": "1.5.0",
            "_model_name": "ImageModel",
            "_view_count": null,
            "_view_module": "@jupyter-widgets/controls",
            "_view_module_version": "1.5.0",
            "_view_name": "ImageView",
            "format": "png",
            "height": "300",
            "layout": "IPY_MODEL_38cabc619a01472788f1966dbbd56101",
            "width": "300"
          }
        },
        "b8fc62788dc544f8963a3967c1eafc9a": {
          "model_module": "@jupyter-widgets/base",
          "model_name": "LayoutModel",
          "model_module_version": "1.2.0",
          "state": {
            "_model_module": "@jupyter-widgets/base",
            "_model_module_version": "1.2.0",
            "_model_name": "LayoutModel",
            "_view_count": null,
            "_view_module": "@jupyter-widgets/base",
            "_view_module_version": "1.2.0",
            "_view_name": "LayoutView",
            "align_content": null,
            "align_items": "center",
            "align_self": null,
            "border": "1px solid gray",
            "bottom": null,
            "display": null,
            "flex": null,
            "flex_flow": null,
            "grid_area": null,
            "grid_auto_columns": null,
            "grid_auto_flow": null,
            "grid_auto_rows": null,
            "grid_column": null,
            "grid_gap": null,
            "grid_row": null,
            "grid_template_areas": null,
            "grid_template_columns": null,
            "grid_template_rows": null,
            "height": null,
            "justify_content": null,
            "justify_items": null,
            "left": null,
            "margin": null,
            "max_height": null,
            "max_width": null,
            "min_height": null,
            "min_width": null,
            "object_fit": null,
            "object_position": null,
            "order": null,
            "overflow": null,
            "overflow_x": null,
            "overflow_y": null,
            "padding": null,
            "right": null,
            "top": null,
            "visibility": null,
            "width": null
          }
        },
        "8f51930ca4984a8e9b8a85a4e217b490": {
          "model_module": "@jupyter-widgets/controls",
          "model_name": "HTMLModel",
          "model_module_version": "1.5.0",
          "state": {
            "_dom_classes": [],
            "_model_module": "@jupyter-widgets/controls",
            "_model_module_version": "1.5.0",
            "_model_name": "HTMLModel",
            "_view_count": null,
            "_view_module": "@jupyter-widgets/controls",
            "_view_module_version": "1.5.0",
            "_view_name": "HTMLView",
            "description": "",
            "description_tooltip": null,
            "layout": "IPY_MODEL_64dd831698d14473809eca5a119ddb15",
            "placeholder": "​",
            "style": "IPY_MODEL_8af41fb1320b4a4b8419744350a05d5d",
            "value": "oqmd-6455"
          }
        },
        "eda2679160334491a5b63f8c032eb03a": {
          "model_module": "@jupyter-widgets/controls",
          "model_name": "ImageModel",
          "model_module_version": "1.5.0",
          "state": {
            "_dom_classes": [],
            "_model_module": "@jupyter-widgets/controls",
            "_model_module_version": "1.5.0",
            "_model_name": "ImageModel",
            "_view_count": null,
            "_view_module": "@jupyter-widgets/controls",
            "_view_module_version": "1.5.0",
            "_view_name": "ImageView",
            "format": "png",
            "height": "300",
            "layout": "IPY_MODEL_12940594209d465da6aeb2f67c24e796",
            "width": "300"
          }
        },
        "c31bc93f488644e5ae111920708356cc": {
          "model_module": "@jupyter-widgets/base",
          "model_name": "LayoutModel",
          "model_module_version": "1.2.0",
          "state": {
            "_model_module": "@jupyter-widgets/base",
            "_model_module_version": "1.2.0",
            "_model_name": "LayoutModel",
            "_view_count": null,
            "_view_module": "@jupyter-widgets/base",
            "_view_module_version": "1.2.0",
            "_view_name": "LayoutView",
            "align_content": null,
            "align_items": "center",
            "align_self": null,
            "border": "1px solid gray",
            "bottom": null,
            "display": null,
            "flex": null,
            "flex_flow": null,
            "grid_area": null,
            "grid_auto_columns": null,
            "grid_auto_flow": null,
            "grid_auto_rows": null,
            "grid_column": null,
            "grid_gap": null,
            "grid_row": null,
            "grid_template_areas": null,
            "grid_template_columns": null,
            "grid_template_rows": null,
            "height": null,
            "justify_content": null,
            "justify_items": null,
            "left": null,
            "margin": null,
            "max_height": null,
            "max_width": null,
            "min_height": null,
            "min_width": null,
            "object_fit": null,
            "object_position": null,
            "order": null,
            "overflow": null,
            "overflow_x": null,
            "overflow_y": null,
            "padding": null,
            "right": null,
            "top": null,
            "visibility": null,
            "width": null
          }
        },
        "3efeb769682b41b0872b9f037bf7c539": {
          "model_module": "@jupyter-widgets/controls",
          "model_name": "HTMLModel",
          "model_module_version": "1.5.0",
          "state": {
            "_dom_classes": [],
            "_model_module": "@jupyter-widgets/controls",
            "_model_module_version": "1.5.0",
            "_model_name": "HTMLModel",
            "_view_count": null,
            "_view_module": "@jupyter-widgets/controls",
            "_view_module_version": "1.5.0",
            "_view_name": "HTMLView",
            "description": "",
            "description_tooltip": null,
            "layout": "IPY_MODEL_cbd3e61124394982808641c82b94e601",
            "placeholder": "​",
            "style": "IPY_MODEL_7ecfb13c09f840ad965df34ebd7e88c4",
            "value": "oqmd-681890"
          }
        },
        "70d1504badd0456ca8b8f3c15c6a5627": {
          "model_module": "@jupyter-widgets/controls",
          "model_name": "ImageModel",
          "model_module_version": "1.5.0",
          "state": {
            "_dom_classes": [],
            "_model_module": "@jupyter-widgets/controls",
            "_model_module_version": "1.5.0",
            "_model_name": "ImageModel",
            "_view_count": null,
            "_view_module": "@jupyter-widgets/controls",
            "_view_module_version": "1.5.0",
            "_view_name": "ImageView",
            "format": "png",
            "height": "300",
            "layout": "IPY_MODEL_7c5f22745977498a832f89a95bd42705",
            "width": "300"
          }
        },
        "5807805c727242048772e9602c46aaf3": {
          "model_module": "@jupyter-widgets/base",
          "model_name": "LayoutModel",
          "model_module_version": "1.2.0",
          "state": {
            "_model_module": "@jupyter-widgets/base",
            "_model_module_version": "1.2.0",
            "_model_name": "LayoutModel",
            "_view_count": null,
            "_view_module": "@jupyter-widgets/base",
            "_view_module_version": "1.2.0",
            "_view_name": "LayoutView",
            "align_content": null,
            "align_items": "center",
            "align_self": null,
            "border": "1px solid gray",
            "bottom": null,
            "display": null,
            "flex": null,
            "flex_flow": null,
            "grid_area": null,
            "grid_auto_columns": null,
            "grid_auto_flow": null,
            "grid_auto_rows": null,
            "grid_column": null,
            "grid_gap": null,
            "grid_row": null,
            "grid_template_areas": null,
            "grid_template_columns": null,
            "grid_template_rows": null,
            "height": null,
            "justify_content": null,
            "justify_items": null,
            "left": null,
            "margin": null,
            "max_height": null,
            "max_width": null,
            "min_height": null,
            "min_width": null,
            "object_fit": null,
            "object_position": null,
            "order": null,
            "overflow": null,
            "overflow_x": null,
            "overflow_y": null,
            "padding": null,
            "right": null,
            "top": null,
            "visibility": null,
            "width": null
          }
        },
        "7d928e6c37fb4f8cb2304ede6cdb24d6": {
          "model_module": "@jupyter-widgets/controls",
          "model_name": "HTMLModel",
          "model_module_version": "1.5.0",
          "state": {
            "_dom_classes": [],
            "_model_module": "@jupyter-widgets/controls",
            "_model_module_version": "1.5.0",
            "_model_name": "HTMLModel",
            "_view_count": null,
            "_view_module": "@jupyter-widgets/controls",
            "_view_module_version": "1.5.0",
            "_view_name": "HTMLView",
            "description": "",
            "description_tooltip": null,
            "layout": "IPY_MODEL_e95fd7920690421dbacda05dd81e0d0d",
            "placeholder": "​",
            "style": "IPY_MODEL_bd3db43ac45a4b25959a79d3c0ac4f65",
            "value": "oqmd-825487"
          }
        },
        "e1f5b5fb85654d55b2f4353a41ea736d": {
          "model_module": "@jupyter-widgets/controls",
          "model_name": "ImageModel",
          "model_module_version": "1.5.0",
          "state": {
            "_dom_classes": [],
            "_model_module": "@jupyter-widgets/controls",
            "_model_module_version": "1.5.0",
            "_model_name": "ImageModel",
            "_view_count": null,
            "_view_module": "@jupyter-widgets/controls",
            "_view_module_version": "1.5.0",
            "_view_name": "ImageView",
            "format": "png",
            "height": "300",
            "layout": "IPY_MODEL_20554a6c7d844178bb21f337c5e91708",
            "width": "300"
          }
        },
        "57007359fd814144b7eb3ab74bef61e7": {
          "model_module": "@jupyter-widgets/base",
          "model_name": "LayoutModel",
          "model_module_version": "1.2.0",
          "state": {
            "_model_module": "@jupyter-widgets/base",
            "_model_module_version": "1.2.0",
            "_model_name": "LayoutModel",
            "_view_count": null,
            "_view_module": "@jupyter-widgets/base",
            "_view_module_version": "1.2.0",
            "_view_name": "LayoutView",
            "align_content": null,
            "align_items": "center",
            "align_self": null,
            "border": "1px solid gray",
            "bottom": null,
            "display": null,
            "flex": null,
            "flex_flow": null,
            "grid_area": null,
            "grid_auto_columns": null,
            "grid_auto_flow": null,
            "grid_auto_rows": null,
            "grid_column": null,
            "grid_gap": null,
            "grid_row": null,
            "grid_template_areas": null,
            "grid_template_columns": null,
            "grid_template_rows": null,
            "height": null,
            "justify_content": null,
            "justify_items": null,
            "left": null,
            "margin": null,
            "max_height": null,
            "max_width": null,
            "min_height": null,
            "min_width": null,
            "object_fit": null,
            "object_position": null,
            "order": null,
            "overflow": null,
            "overflow_x": null,
            "overflow_y": null,
            "padding": null,
            "right": null,
            "top": null,
            "visibility": null,
            "width": null
          }
        },
        "252a05bfbedf467d941a46c4bdd34507": {
          "model_module": "@jupyter-widgets/controls",
          "model_name": "HTMLModel",
          "model_module_version": "1.5.0",
          "state": {
            "_dom_classes": [],
            "_model_module": "@jupyter-widgets/controls",
            "_model_module_version": "1.5.0",
            "_model_name": "HTMLModel",
            "_view_count": null,
            "_view_module": "@jupyter-widgets/controls",
            "_view_module_version": "1.5.0",
            "_view_name": "HTMLView",
            "description": "",
            "description_tooltip": null,
            "layout": "IPY_MODEL_b5ce2c898fed4edfb597fd07406a262d",
            "placeholder": "​",
            "style": "IPY_MODEL_2656cad9e77b4053b464abdebb4bbf1e",
            "value": "oqmd-678653"
          }
        },
        "949a2d321539450998119773301bc1a9": {
          "model_module": "@jupyter-widgets/controls",
          "model_name": "ImageModel",
          "model_module_version": "1.5.0",
          "state": {
            "_dom_classes": [],
            "_model_module": "@jupyter-widgets/controls",
            "_model_module_version": "1.5.0",
            "_model_name": "ImageModel",
            "_view_count": null,
            "_view_module": "@jupyter-widgets/controls",
            "_view_module_version": "1.5.0",
            "_view_name": "ImageView",
            "format": "png",
            "height": "300",
            "layout": "IPY_MODEL_711a72c259a64725a568c6c0452f78e8",
            "width": "300"
          }
        },
        "a543a5b35e784b6981ef45c6117c67cd": {
          "model_module": "@jupyter-widgets/base",
          "model_name": "LayoutModel",
          "model_module_version": "1.2.0",
          "state": {
            "_model_module": "@jupyter-widgets/base",
            "_model_module_version": "1.2.0",
            "_model_name": "LayoutModel",
            "_view_count": null,
            "_view_module": "@jupyter-widgets/base",
            "_view_module_version": "1.2.0",
            "_view_name": "LayoutView",
            "align_content": null,
            "align_items": "center",
            "align_self": null,
            "border": "1px solid gray",
            "bottom": null,
            "display": null,
            "flex": null,
            "flex_flow": null,
            "grid_area": null,
            "grid_auto_columns": null,
            "grid_auto_flow": null,
            "grid_auto_rows": null,
            "grid_column": null,
            "grid_gap": null,
            "grid_row": null,
            "grid_template_areas": null,
            "grid_template_columns": null,
            "grid_template_rows": null,
            "height": null,
            "justify_content": null,
            "justify_items": null,
            "left": null,
            "margin": null,
            "max_height": null,
            "max_width": null,
            "min_height": null,
            "min_width": null,
            "object_fit": null,
            "object_position": null,
            "order": null,
            "overflow": null,
            "overflow_x": null,
            "overflow_y": null,
            "padding": null,
            "right": null,
            "top": null,
            "visibility": null,
            "width": null
          }
        },
        "a22413be32d04d8082ad21d1bdbb843d": {
          "model_module": "@jupyter-widgets/base",
          "model_name": "LayoutModel",
          "model_module_version": "1.2.0",
          "state": {
            "_model_module": "@jupyter-widgets/base",
            "_model_module_version": "1.2.0",
            "_model_name": "LayoutModel",
            "_view_count": null,
            "_view_module": "@jupyter-widgets/base",
            "_view_module_version": "1.2.0",
            "_view_name": "LayoutView",
            "align_content": null,
            "align_items": null,
            "align_self": null,
            "border": null,
            "bottom": null,
            "display": null,
            "flex": null,
            "flex_flow": null,
            "grid_area": null,
            "grid_auto_columns": null,
            "grid_auto_flow": null,
            "grid_auto_rows": null,
            "grid_column": null,
            "grid_gap": null,
            "grid_row": null,
            "grid_template_areas": null,
            "grid_template_columns": null,
            "grid_template_rows": null,
            "height": null,
            "justify_content": null,
            "justify_items": null,
            "left": null,
            "margin": null,
            "max_height": null,
            "max_width": null,
            "min_height": null,
            "min_width": null,
            "object_fit": null,
            "object_position": null,
            "order": null,
            "overflow": null,
            "overflow_x": null,
            "overflow_y": null,
            "padding": null,
            "right": null,
            "top": null,
            "visibility": null,
            "width": null
          }
        },
        "359c6546d16c415095018cd820b9b5a0": {
          "model_module": "@jupyter-widgets/controls",
          "model_name": "DescriptionStyleModel",
          "model_module_version": "1.5.0",
          "state": {
            "_model_module": "@jupyter-widgets/controls",
            "_model_module_version": "1.5.0",
            "_model_name": "DescriptionStyleModel",
            "_view_count": null,
            "_view_module": "@jupyter-widgets/base",
            "_view_module_version": "1.2.0",
            "_view_name": "StyleView",
            "description_width": ""
          }
        },
        "38cabc619a01472788f1966dbbd56101": {
          "model_module": "@jupyter-widgets/base",
          "model_name": "LayoutModel",
          "model_module_version": "1.2.0",
          "state": {
            "_model_module": "@jupyter-widgets/base",
            "_model_module_version": "1.2.0",
            "_model_name": "LayoutModel",
            "_view_count": null,
            "_view_module": "@jupyter-widgets/base",
            "_view_module_version": "1.2.0",
            "_view_name": "LayoutView",
            "align_content": null,
            "align_items": null,
            "align_self": null,
            "border": null,
            "bottom": null,
            "display": null,
            "flex": null,
            "flex_flow": null,
            "grid_area": null,
            "grid_auto_columns": null,
            "grid_auto_flow": null,
            "grid_auto_rows": null,
            "grid_column": null,
            "grid_gap": null,
            "grid_row": null,
            "grid_template_areas": null,
            "grid_template_columns": null,
            "grid_template_rows": null,
            "height": null,
            "justify_content": null,
            "justify_items": null,
            "left": null,
            "margin": null,
            "max_height": null,
            "max_width": null,
            "min_height": null,
            "min_width": null,
            "object_fit": null,
            "object_position": null,
            "order": null,
            "overflow": null,
            "overflow_x": null,
            "overflow_y": null,
            "padding": null,
            "right": null,
            "top": null,
            "visibility": null,
            "width": null
          }
        },
        "64dd831698d14473809eca5a119ddb15": {
          "model_module": "@jupyter-widgets/base",
          "model_name": "LayoutModel",
          "model_module_version": "1.2.0",
          "state": {
            "_model_module": "@jupyter-widgets/base",
            "_model_module_version": "1.2.0",
            "_model_name": "LayoutModel",
            "_view_count": null,
            "_view_module": "@jupyter-widgets/base",
            "_view_module_version": "1.2.0",
            "_view_name": "LayoutView",
            "align_content": null,
            "align_items": null,
            "align_self": null,
            "border": null,
            "bottom": null,
            "display": null,
            "flex": null,
            "flex_flow": null,
            "grid_area": null,
            "grid_auto_columns": null,
            "grid_auto_flow": null,
            "grid_auto_rows": null,
            "grid_column": null,
            "grid_gap": null,
            "grid_row": null,
            "grid_template_areas": null,
            "grid_template_columns": null,
            "grid_template_rows": null,
            "height": null,
            "justify_content": null,
            "justify_items": null,
            "left": null,
            "margin": null,
            "max_height": null,
            "max_width": null,
            "min_height": null,
            "min_width": null,
            "object_fit": null,
            "object_position": null,
            "order": null,
            "overflow": null,
            "overflow_x": null,
            "overflow_y": null,
            "padding": null,
            "right": null,
            "top": null,
            "visibility": null,
            "width": null
          }
        },
        "8af41fb1320b4a4b8419744350a05d5d": {
          "model_module": "@jupyter-widgets/controls",
          "model_name": "DescriptionStyleModel",
          "model_module_version": "1.5.0",
          "state": {
            "_model_module": "@jupyter-widgets/controls",
            "_model_module_version": "1.5.0",
            "_model_name": "DescriptionStyleModel",
            "_view_count": null,
            "_view_module": "@jupyter-widgets/base",
            "_view_module_version": "1.2.0",
            "_view_name": "StyleView",
            "description_width": ""
          }
        },
        "12940594209d465da6aeb2f67c24e796": {
          "model_module": "@jupyter-widgets/base",
          "model_name": "LayoutModel",
          "model_module_version": "1.2.0",
          "state": {
            "_model_module": "@jupyter-widgets/base",
            "_model_module_version": "1.2.0",
            "_model_name": "LayoutModel",
            "_view_count": null,
            "_view_module": "@jupyter-widgets/base",
            "_view_module_version": "1.2.0",
            "_view_name": "LayoutView",
            "align_content": null,
            "align_items": null,
            "align_self": null,
            "border": null,
            "bottom": null,
            "display": null,
            "flex": null,
            "flex_flow": null,
            "grid_area": null,
            "grid_auto_columns": null,
            "grid_auto_flow": null,
            "grid_auto_rows": null,
            "grid_column": null,
            "grid_gap": null,
            "grid_row": null,
            "grid_template_areas": null,
            "grid_template_columns": null,
            "grid_template_rows": null,
            "height": null,
            "justify_content": null,
            "justify_items": null,
            "left": null,
            "margin": null,
            "max_height": null,
            "max_width": null,
            "min_height": null,
            "min_width": null,
            "object_fit": null,
            "object_position": null,
            "order": null,
            "overflow": null,
            "overflow_x": null,
            "overflow_y": null,
            "padding": null,
            "right": null,
            "top": null,
            "visibility": null,
            "width": null
          }
        },
        "cbd3e61124394982808641c82b94e601": {
          "model_module": "@jupyter-widgets/base",
          "model_name": "LayoutModel",
          "model_module_version": "1.2.0",
          "state": {
            "_model_module": "@jupyter-widgets/base",
            "_model_module_version": "1.2.0",
            "_model_name": "LayoutModel",
            "_view_count": null,
            "_view_module": "@jupyter-widgets/base",
            "_view_module_version": "1.2.0",
            "_view_name": "LayoutView",
            "align_content": null,
            "align_items": null,
            "align_self": null,
            "border": null,
            "bottom": null,
            "display": null,
            "flex": null,
            "flex_flow": null,
            "grid_area": null,
            "grid_auto_columns": null,
            "grid_auto_flow": null,
            "grid_auto_rows": null,
            "grid_column": null,
            "grid_gap": null,
            "grid_row": null,
            "grid_template_areas": null,
            "grid_template_columns": null,
            "grid_template_rows": null,
            "height": null,
            "justify_content": null,
            "justify_items": null,
            "left": null,
            "margin": null,
            "max_height": null,
            "max_width": null,
            "min_height": null,
            "min_width": null,
            "object_fit": null,
            "object_position": null,
            "order": null,
            "overflow": null,
            "overflow_x": null,
            "overflow_y": null,
            "padding": null,
            "right": null,
            "top": null,
            "visibility": null,
            "width": null
          }
        },
        "7ecfb13c09f840ad965df34ebd7e88c4": {
          "model_module": "@jupyter-widgets/controls",
          "model_name": "DescriptionStyleModel",
          "model_module_version": "1.5.0",
          "state": {
            "_model_module": "@jupyter-widgets/controls",
            "_model_module_version": "1.5.0",
            "_model_name": "DescriptionStyleModel",
            "_view_count": null,
            "_view_module": "@jupyter-widgets/base",
            "_view_module_version": "1.2.0",
            "_view_name": "StyleView",
            "description_width": ""
          }
        },
        "7c5f22745977498a832f89a95bd42705": {
          "model_module": "@jupyter-widgets/base",
          "model_name": "LayoutModel",
          "model_module_version": "1.2.0",
          "state": {
            "_model_module": "@jupyter-widgets/base",
            "_model_module_version": "1.2.0",
            "_model_name": "LayoutModel",
            "_view_count": null,
            "_view_module": "@jupyter-widgets/base",
            "_view_module_version": "1.2.0",
            "_view_name": "LayoutView",
            "align_content": null,
            "align_items": null,
            "align_self": null,
            "border": null,
            "bottom": null,
            "display": null,
            "flex": null,
            "flex_flow": null,
            "grid_area": null,
            "grid_auto_columns": null,
            "grid_auto_flow": null,
            "grid_auto_rows": null,
            "grid_column": null,
            "grid_gap": null,
            "grid_row": null,
            "grid_template_areas": null,
            "grid_template_columns": null,
            "grid_template_rows": null,
            "height": null,
            "justify_content": null,
            "justify_items": null,
            "left": null,
            "margin": null,
            "max_height": null,
            "max_width": null,
            "min_height": null,
            "min_width": null,
            "object_fit": null,
            "object_position": null,
            "order": null,
            "overflow": null,
            "overflow_x": null,
            "overflow_y": null,
            "padding": null,
            "right": null,
            "top": null,
            "visibility": null,
            "width": null
          }
        },
        "e95fd7920690421dbacda05dd81e0d0d": {
          "model_module": "@jupyter-widgets/base",
          "model_name": "LayoutModel",
          "model_module_version": "1.2.0",
          "state": {
            "_model_module": "@jupyter-widgets/base",
            "_model_module_version": "1.2.0",
            "_model_name": "LayoutModel",
            "_view_count": null,
            "_view_module": "@jupyter-widgets/base",
            "_view_module_version": "1.2.0",
            "_view_name": "LayoutView",
            "align_content": null,
            "align_items": null,
            "align_self": null,
            "border": null,
            "bottom": null,
            "display": null,
            "flex": null,
            "flex_flow": null,
            "grid_area": null,
            "grid_auto_columns": null,
            "grid_auto_flow": null,
            "grid_auto_rows": null,
            "grid_column": null,
            "grid_gap": null,
            "grid_row": null,
            "grid_template_areas": null,
            "grid_template_columns": null,
            "grid_template_rows": null,
            "height": null,
            "justify_content": null,
            "justify_items": null,
            "left": null,
            "margin": null,
            "max_height": null,
            "max_width": null,
            "min_height": null,
            "min_width": null,
            "object_fit": null,
            "object_position": null,
            "order": null,
            "overflow": null,
            "overflow_x": null,
            "overflow_y": null,
            "padding": null,
            "right": null,
            "top": null,
            "visibility": null,
            "width": null
          }
        },
        "bd3db43ac45a4b25959a79d3c0ac4f65": {
          "model_module": "@jupyter-widgets/controls",
          "model_name": "DescriptionStyleModel",
          "model_module_version": "1.5.0",
          "state": {
            "_model_module": "@jupyter-widgets/controls",
            "_model_module_version": "1.5.0",
            "_model_name": "DescriptionStyleModel",
            "_view_count": null,
            "_view_module": "@jupyter-widgets/base",
            "_view_module_version": "1.2.0",
            "_view_name": "StyleView",
            "description_width": ""
          }
        },
        "20554a6c7d844178bb21f337c5e91708": {
          "model_module": "@jupyter-widgets/base",
          "model_name": "LayoutModel",
          "model_module_version": "1.2.0",
          "state": {
            "_model_module": "@jupyter-widgets/base",
            "_model_module_version": "1.2.0",
            "_model_name": "LayoutModel",
            "_view_count": null,
            "_view_module": "@jupyter-widgets/base",
            "_view_module_version": "1.2.0",
            "_view_name": "LayoutView",
            "align_content": null,
            "align_items": null,
            "align_self": null,
            "border": null,
            "bottom": null,
            "display": null,
            "flex": null,
            "flex_flow": null,
            "grid_area": null,
            "grid_auto_columns": null,
            "grid_auto_flow": null,
            "grid_auto_rows": null,
            "grid_column": null,
            "grid_gap": null,
            "grid_row": null,
            "grid_template_areas": null,
            "grid_template_columns": null,
            "grid_template_rows": null,
            "height": null,
            "justify_content": null,
            "justify_items": null,
            "left": null,
            "margin": null,
            "max_height": null,
            "max_width": null,
            "min_height": null,
            "min_width": null,
            "object_fit": null,
            "object_position": null,
            "order": null,
            "overflow": null,
            "overflow_x": null,
            "overflow_y": null,
            "padding": null,
            "right": null,
            "top": null,
            "visibility": null,
            "width": null
          }
        },
        "b5ce2c898fed4edfb597fd07406a262d": {
          "model_module": "@jupyter-widgets/base",
          "model_name": "LayoutModel",
          "model_module_version": "1.2.0",
          "state": {
            "_model_module": "@jupyter-widgets/base",
            "_model_module_version": "1.2.0",
            "_model_name": "LayoutModel",
            "_view_count": null,
            "_view_module": "@jupyter-widgets/base",
            "_view_module_version": "1.2.0",
            "_view_name": "LayoutView",
            "align_content": null,
            "align_items": null,
            "align_self": null,
            "border": null,
            "bottom": null,
            "display": null,
            "flex": null,
            "flex_flow": null,
            "grid_area": null,
            "grid_auto_columns": null,
            "grid_auto_flow": null,
            "grid_auto_rows": null,
            "grid_column": null,
            "grid_gap": null,
            "grid_row": null,
            "grid_template_areas": null,
            "grid_template_columns": null,
            "grid_template_rows": null,
            "height": null,
            "justify_content": null,
            "justify_items": null,
            "left": null,
            "margin": null,
            "max_height": null,
            "max_width": null,
            "min_height": null,
            "min_width": null,
            "object_fit": null,
            "object_position": null,
            "order": null,
            "overflow": null,
            "overflow_x": null,
            "overflow_y": null,
            "padding": null,
            "right": null,
            "top": null,
            "visibility": null,
            "width": null
          }
        },
        "2656cad9e77b4053b464abdebb4bbf1e": {
          "model_module": "@jupyter-widgets/controls",
          "model_name": "DescriptionStyleModel",
          "model_module_version": "1.5.0",
          "state": {
            "_model_module": "@jupyter-widgets/controls",
            "_model_module_version": "1.5.0",
            "_model_name": "DescriptionStyleModel",
            "_view_count": null,
            "_view_module": "@jupyter-widgets/base",
            "_view_module_version": "1.2.0",
            "_view_name": "StyleView",
            "description_width": ""
          }
        },
        "711a72c259a64725a568c6c0452f78e8": {
          "model_module": "@jupyter-widgets/base",
          "model_name": "LayoutModel",
          "model_module_version": "1.2.0",
          "state": {
            "_model_module": "@jupyter-widgets/base",
            "_model_module_version": "1.2.0",
            "_model_name": "LayoutModel",
            "_view_count": null,
            "_view_module": "@jupyter-widgets/base",
            "_view_module_version": "1.2.0",
            "_view_name": "LayoutView",
            "align_content": null,
            "align_items": null,
            "align_self": null,
            "border": null,
            "bottom": null,
            "display": null,
            "flex": null,
            "flex_flow": null,
            "grid_area": null,
            "grid_auto_columns": null,
            "grid_auto_flow": null,
            "grid_auto_rows": null,
            "grid_column": null,
            "grid_gap": null,
            "grid_row": null,
            "grid_template_areas": null,
            "grid_template_columns": null,
            "grid_template_rows": null,
            "height": null,
            "justify_content": null,
            "justify_items": null,
            "left": null,
            "margin": null,
            "max_height": null,
            "max_width": null,
            "min_height": null,
            "min_width": null,
            "object_fit": null,
            "object_position": null,
            "order": null,
            "overflow": null,
            "overflow_x": null,
            "overflow_y": null,
            "padding": null,
            "right": null,
            "top": null,
            "visibility": null,
            "width": null
          }
        }
      }
    }
  },
  "cells": [
    {
      "cell_type": "markdown",
      "metadata": {
        "id": "view-in-github",
        "colab_type": "text"
      },
      "source": [
        "<a href=\"https://colab.research.google.com/github/vaibhav-1508/CrystalGraphRepresentation/blob/main/OQMD_v1_2_dataset_for_CGNN.ipynb\" target=\"_parent\"><img src=\"https://colab.research.google.com/assets/colab-badge.svg\" alt=\"Open In Colab\"/></a>"
      ]
    },
    {
      "cell_type": "markdown",
      "source": [],
      "metadata": {
        "id": "lJlWVvPyUmfe"
      }
    },
    {
      "cell_type": "markdown",
      "source": [
        "# The OQMD v1.2 Dataset"
      ],
      "metadata": {
        "id": "O84cHhZNqS1k"
      }
    },
    {
      "cell_type": "code",
      "execution_count": 2,
      "metadata": {
        "id": "5A-uU_jDODlR"
      },
      "outputs": [],
      "source": [
        "!wget -q \"https://drive.google.com/uc?export=download&id=1I6nS4l15SeX5S4VcU3jKG5Iqvomj7eXB\" -O oqmd.7z\n",
        "!7z x -bsp0 -bso0 oqmd.7z"
      ]
    },
    {
      "cell_type": "code",
      "source": [
        "!ls oqmd_dataset"
      ],
      "metadata": {
        "colab": {
          "base_uri": "https://localhost:8080/"
        },
        "id": "-QEA0xAfPFoH",
        "outputId": "69ef170b-7b74-4056-915c-5dc178b861a5"
      },
      "execution_count": 3,
      "outputs": [
        {
          "output_type": "stream",
          "name": "stdout",
          "text": [
            "config.json  graph_data.npz  License  oqmd_dataset_utils.py  split.json  summary.txt  targets.csv\n"
          ]
        }
      ]
    },
    {
      "cell_type": "code",
      "source": [
        "!fmt oqmd_dataset/summary.txt"
      ],
      "metadata": {
        "colab": {
          "base_uri": "https://localhost:8080/"
        },
        "id": "ADVDpH4IUfdU",
        "outputId": "a2238533-786f-459a-c2a8-cc1069fcd386"
      },
      "execution_count": 4,
      "outputs": [
        {
          "output_type": "stream",
          "name": "stdout",
          "text": [
            "\n",
            "oqmd_data.py 562/562 [3:16:30<00:00, 19.71s/it]\n",
            "\n",
            "mp_graph.py [Parallel(n_jobs=-1)]: Done 562 out of 562 | elapsed:\n",
            "186.1min finished\n",
            "\n",
            "oqmd.py Total Data: 561888 unique_z: 89 min z: 1 max z: 94 [ 1  2  3  4\n",
            "5  6  7  8  9 10 11 12 13 14 15 16 17 18 19 20 21 22 23 24\n",
            " 25 26 27 28 29 30 31 32 33 34 35 36 37 38 39 40 41 42 43 44 45 46 47\n",
            " 48 49 50 51 52 53 54 55 56 57 58 59 60 61 62 63 64 65 66 67 68 69 70\n",
            " 71 72 73 74 75 76 77 78 79 80 81 82 83 89 90 91 92 93 94]\n",
            "Unary formulas: 89 Multi formulas: 338047 Train formulas: 270528 Val\n",
            "formulas: 33804 Test formulas: 33804 Train: 449867 Val: 56289 Test: 55732\n",
            "\n"
          ]
        }
      ]
    },
    {
      "cell_type": "markdown",
      "source": [
        "# Data Loading"
      ],
      "metadata": {
        "id": "fgW617WTqxyH"
      }
    },
    {
      "cell_type": "code",
      "source": [
        "import pandas as pd\n",
        "\n",
        "dataset_path = \"oqmd_dataset/targets.csv\"\n",
        "dataset = pd.read_csv(dataset_path, keep_default_na=False, na_values=['_'])\n",
        "dataset.head()"
      ],
      "metadata": {
        "colab": {
          "base_uri": "https://localhost:8080/",
          "height": 313
        },
        "id": "cCsZVDRKVVJf",
        "outputId": "8c0831ee-d1f2-45d6-d2f2-b6d26730a7dc"
      },
      "execution_count": 5,
      "outputs": [
        {
          "output_type": "execute_result",
          "data": {
            "text/plain": [
              "          name   formula  spacegroup  nelements  nsites  energy_per_atom  \\\n",
              "0  oqmd-823191  ZrZnNiMo         216          4       4        -6.399036   \n",
              "1  oqmd-362450   DySc2Ir         225          3       4        -6.795189   \n",
              "2  oqmd-758369       YZr          59          2      16        -7.445319   \n",
              "3  oqmd-516941   CrMoAu2         225          3       4        -6.218335   \n",
              "4  oqmd-344596      Ge3O         221          2       4        -4.382844   \n",
              "\n",
              "   formation_energy_per_atom  band_gap  volume_per_atom  \\\n",
              "0                   0.157939       0.0        16.014199   \n",
              "1                  -0.266899       0.0        19.931045   \n",
              "2                   0.060478       0.0        27.308156   \n",
              "3                   0.504200       0.0        15.436073   \n",
              "4                   0.215750       0.0        15.868661   \n",
              "\n",
              "   magnetization_per_atom  atomic_volume_per_atom  volume_deviation  \n",
              "0                0.452473               22.799641         -0.423714  \n",
              "1                0.212367               31.566053         -0.583763  \n",
              "2                0.002801               38.264481         -0.401211  \n",
              "3                0.715628               23.006243         -0.490421  \n",
              "4                0.000000                6.251735          0.606033  "
            ],
            "text/html": [
              "\n",
              "  <div id=\"df-9d980f98-34e8-47ef-b5ea-d855e17f8d1c\" class=\"colab-df-container\">\n",
              "    <div>\n",
              "<style scoped>\n",
              "    .dataframe tbody tr th:only-of-type {\n",
              "        vertical-align: middle;\n",
              "    }\n",
              "\n",
              "    .dataframe tbody tr th {\n",
              "        vertical-align: top;\n",
              "    }\n",
              "\n",
              "    .dataframe thead th {\n",
              "        text-align: right;\n",
              "    }\n",
              "</style>\n",
              "<table border=\"1\" class=\"dataframe\">\n",
              "  <thead>\n",
              "    <tr style=\"text-align: right;\">\n",
              "      <th></th>\n",
              "      <th>name</th>\n",
              "      <th>formula</th>\n",
              "      <th>spacegroup</th>\n",
              "      <th>nelements</th>\n",
              "      <th>nsites</th>\n",
              "      <th>energy_per_atom</th>\n",
              "      <th>formation_energy_per_atom</th>\n",
              "      <th>band_gap</th>\n",
              "      <th>volume_per_atom</th>\n",
              "      <th>magnetization_per_atom</th>\n",
              "      <th>atomic_volume_per_atom</th>\n",
              "      <th>volume_deviation</th>\n",
              "    </tr>\n",
              "  </thead>\n",
              "  <tbody>\n",
              "    <tr>\n",
              "      <th>0</th>\n",
              "      <td>oqmd-823191</td>\n",
              "      <td>ZrZnNiMo</td>\n",
              "      <td>216</td>\n",
              "      <td>4</td>\n",
              "      <td>4</td>\n",
              "      <td>-6.399036</td>\n",
              "      <td>0.157939</td>\n",
              "      <td>0.0</td>\n",
              "      <td>16.014199</td>\n",
              "      <td>0.452473</td>\n",
              "      <td>22.799641</td>\n",
              "      <td>-0.423714</td>\n",
              "    </tr>\n",
              "    <tr>\n",
              "      <th>1</th>\n",
              "      <td>oqmd-362450</td>\n",
              "      <td>DySc2Ir</td>\n",
              "      <td>225</td>\n",
              "      <td>3</td>\n",
              "      <td>4</td>\n",
              "      <td>-6.795189</td>\n",
              "      <td>-0.266899</td>\n",
              "      <td>0.0</td>\n",
              "      <td>19.931045</td>\n",
              "      <td>0.212367</td>\n",
              "      <td>31.566053</td>\n",
              "      <td>-0.583763</td>\n",
              "    </tr>\n",
              "    <tr>\n",
              "      <th>2</th>\n",
              "      <td>oqmd-758369</td>\n",
              "      <td>YZr</td>\n",
              "      <td>59</td>\n",
              "      <td>2</td>\n",
              "      <td>16</td>\n",
              "      <td>-7.445319</td>\n",
              "      <td>0.060478</td>\n",
              "      <td>0.0</td>\n",
              "      <td>27.308156</td>\n",
              "      <td>0.002801</td>\n",
              "      <td>38.264481</td>\n",
              "      <td>-0.401211</td>\n",
              "    </tr>\n",
              "    <tr>\n",
              "      <th>3</th>\n",
              "      <td>oqmd-516941</td>\n",
              "      <td>CrMoAu2</td>\n",
              "      <td>225</td>\n",
              "      <td>3</td>\n",
              "      <td>4</td>\n",
              "      <td>-6.218335</td>\n",
              "      <td>0.504200</td>\n",
              "      <td>0.0</td>\n",
              "      <td>15.436073</td>\n",
              "      <td>0.715628</td>\n",
              "      <td>23.006243</td>\n",
              "      <td>-0.490421</td>\n",
              "    </tr>\n",
              "    <tr>\n",
              "      <th>4</th>\n",
              "      <td>oqmd-344596</td>\n",
              "      <td>Ge3O</td>\n",
              "      <td>221</td>\n",
              "      <td>2</td>\n",
              "      <td>4</td>\n",
              "      <td>-4.382844</td>\n",
              "      <td>0.215750</td>\n",
              "      <td>0.0</td>\n",
              "      <td>15.868661</td>\n",
              "      <td>0.000000</td>\n",
              "      <td>6.251735</td>\n",
              "      <td>0.606033</td>\n",
              "    </tr>\n",
              "  </tbody>\n",
              "</table>\n",
              "</div>\n",
              "    <div class=\"colab-df-buttons\">\n",
              "\n",
              "  <div class=\"colab-df-container\">\n",
              "    <button class=\"colab-df-convert\" onclick=\"convertToInteractive('df-9d980f98-34e8-47ef-b5ea-d855e17f8d1c')\"\n",
              "            title=\"Convert this dataframe to an interactive table.\"\n",
              "            style=\"display:none;\">\n",
              "\n",
              "  <svg xmlns=\"http://www.w3.org/2000/svg\" height=\"24px\" viewBox=\"0 -960 960 960\">\n",
              "    <path d=\"M120-120v-720h720v720H120Zm60-500h600v-160H180v160Zm220 220h160v-160H400v160Zm0 220h160v-160H400v160ZM180-400h160v-160H180v160Zm440 0h160v-160H620v160ZM180-180h160v-160H180v160Zm440 0h160v-160H620v160Z\"/>\n",
              "  </svg>\n",
              "    </button>\n",
              "\n",
              "  <style>\n",
              "    .colab-df-container {\n",
              "      display:flex;\n",
              "      gap: 12px;\n",
              "    }\n",
              "\n",
              "    .colab-df-convert {\n",
              "      background-color: #E8F0FE;\n",
              "      border: none;\n",
              "      border-radius: 50%;\n",
              "      cursor: pointer;\n",
              "      display: none;\n",
              "      fill: #1967D2;\n",
              "      height: 32px;\n",
              "      padding: 0 0 0 0;\n",
              "      width: 32px;\n",
              "    }\n",
              "\n",
              "    .colab-df-convert:hover {\n",
              "      background-color: #E2EBFA;\n",
              "      box-shadow: 0px 1px 2px rgba(60, 64, 67, 0.3), 0px 1px 3px 1px rgba(60, 64, 67, 0.15);\n",
              "      fill: #174EA6;\n",
              "    }\n",
              "\n",
              "    .colab-df-buttons div {\n",
              "      margin-bottom: 4px;\n",
              "    }\n",
              "\n",
              "    [theme=dark] .colab-df-convert {\n",
              "      background-color: #3B4455;\n",
              "      fill: #D2E3FC;\n",
              "    }\n",
              "\n",
              "    [theme=dark] .colab-df-convert:hover {\n",
              "      background-color: #434B5C;\n",
              "      box-shadow: 0px 1px 3px 1px rgba(0, 0, 0, 0.15);\n",
              "      filter: drop-shadow(0px 1px 2px rgba(0, 0, 0, 0.3));\n",
              "      fill: #FFFFFF;\n",
              "    }\n",
              "  </style>\n",
              "\n",
              "    <script>\n",
              "      const buttonEl =\n",
              "        document.querySelector('#df-9d980f98-34e8-47ef-b5ea-d855e17f8d1c button.colab-df-convert');\n",
              "      buttonEl.style.display =\n",
              "        google.colab.kernel.accessAllowed ? 'block' : 'none';\n",
              "\n",
              "      async function convertToInteractive(key) {\n",
              "        const element = document.querySelector('#df-9d980f98-34e8-47ef-b5ea-d855e17f8d1c');\n",
              "        const dataTable =\n",
              "          await google.colab.kernel.invokeFunction('convertToInteractive',\n",
              "                                                    [key], {});\n",
              "        if (!dataTable) return;\n",
              "\n",
              "        const docLinkHtml = 'Like what you see? Visit the ' +\n",
              "          '<a target=\"_blank\" href=https://colab.research.google.com/notebooks/data_table.ipynb>data table notebook</a>'\n",
              "          + ' to learn more about interactive tables.';\n",
              "        element.innerHTML = '';\n",
              "        dataTable['output_type'] = 'display_data';\n",
              "        await google.colab.output.renderOutput(dataTable, element);\n",
              "        const docLink = document.createElement('div');\n",
              "        docLink.innerHTML = docLinkHtml;\n",
              "        element.appendChild(docLink);\n",
              "      }\n",
              "    </script>\n",
              "  </div>\n",
              "\n",
              "\n",
              "<div id=\"df-9a65c637-afe5-4d3c-bbaa-00740a48a926\">\n",
              "  <button class=\"colab-df-quickchart\" onclick=\"quickchart('df-9a65c637-afe5-4d3c-bbaa-00740a48a926')\"\n",
              "            title=\"Suggest charts\"\n",
              "            style=\"display:none;\">\n",
              "\n",
              "<svg xmlns=\"http://www.w3.org/2000/svg\" height=\"24px\"viewBox=\"0 0 24 24\"\n",
              "     width=\"24px\">\n",
              "    <g>\n",
              "        <path d=\"M19 3H5c-1.1 0-2 .9-2 2v14c0 1.1.9 2 2 2h14c1.1 0 2-.9 2-2V5c0-1.1-.9-2-2-2zM9 17H7v-7h2v7zm4 0h-2V7h2v10zm4 0h-2v-4h2v4z\"/>\n",
              "    </g>\n",
              "</svg>\n",
              "  </button>\n",
              "\n",
              "<style>\n",
              "  .colab-df-quickchart {\n",
              "      --bg-color: #E8F0FE;\n",
              "      --fill-color: #1967D2;\n",
              "      --hover-bg-color: #E2EBFA;\n",
              "      --hover-fill-color: #174EA6;\n",
              "      --disabled-fill-color: #AAA;\n",
              "      --disabled-bg-color: #DDD;\n",
              "  }\n",
              "\n",
              "  [theme=dark] .colab-df-quickchart {\n",
              "      --bg-color: #3B4455;\n",
              "      --fill-color: #D2E3FC;\n",
              "      --hover-bg-color: #434B5C;\n",
              "      --hover-fill-color: #FFFFFF;\n",
              "      --disabled-bg-color: #3B4455;\n",
              "      --disabled-fill-color: #666;\n",
              "  }\n",
              "\n",
              "  .colab-df-quickchart {\n",
              "    background-color: var(--bg-color);\n",
              "    border: none;\n",
              "    border-radius: 50%;\n",
              "    cursor: pointer;\n",
              "    display: none;\n",
              "    fill: var(--fill-color);\n",
              "    height: 32px;\n",
              "    padding: 0;\n",
              "    width: 32px;\n",
              "  }\n",
              "\n",
              "  .colab-df-quickchart:hover {\n",
              "    background-color: var(--hover-bg-color);\n",
              "    box-shadow: 0 1px 2px rgba(60, 64, 67, 0.3), 0 1px 3px 1px rgba(60, 64, 67, 0.15);\n",
              "    fill: var(--button-hover-fill-color);\n",
              "  }\n",
              "\n",
              "  .colab-df-quickchart-complete:disabled,\n",
              "  .colab-df-quickchart-complete:disabled:hover {\n",
              "    background-color: var(--disabled-bg-color);\n",
              "    fill: var(--disabled-fill-color);\n",
              "    box-shadow: none;\n",
              "  }\n",
              "\n",
              "  .colab-df-spinner {\n",
              "    border: 2px solid var(--fill-color);\n",
              "    border-color: transparent;\n",
              "    border-bottom-color: var(--fill-color);\n",
              "    animation:\n",
              "      spin 1s steps(1) infinite;\n",
              "  }\n",
              "\n",
              "  @keyframes spin {\n",
              "    0% {\n",
              "      border-color: transparent;\n",
              "      border-bottom-color: var(--fill-color);\n",
              "      border-left-color: var(--fill-color);\n",
              "    }\n",
              "    20% {\n",
              "      border-color: transparent;\n",
              "      border-left-color: var(--fill-color);\n",
              "      border-top-color: var(--fill-color);\n",
              "    }\n",
              "    30% {\n",
              "      border-color: transparent;\n",
              "      border-left-color: var(--fill-color);\n",
              "      border-top-color: var(--fill-color);\n",
              "      border-right-color: var(--fill-color);\n",
              "    }\n",
              "    40% {\n",
              "      border-color: transparent;\n",
              "      border-right-color: var(--fill-color);\n",
              "      border-top-color: var(--fill-color);\n",
              "    }\n",
              "    60% {\n",
              "      border-color: transparent;\n",
              "      border-right-color: var(--fill-color);\n",
              "    }\n",
              "    80% {\n",
              "      border-color: transparent;\n",
              "      border-right-color: var(--fill-color);\n",
              "      border-bottom-color: var(--fill-color);\n",
              "    }\n",
              "    90% {\n",
              "      border-color: transparent;\n",
              "      border-bottom-color: var(--fill-color);\n",
              "    }\n",
              "  }\n",
              "</style>\n",
              "\n",
              "  <script>\n",
              "    async function quickchart(key) {\n",
              "      const quickchartButtonEl =\n",
              "        document.querySelector('#' + key + ' button');\n",
              "      quickchartButtonEl.disabled = true;  // To prevent multiple clicks.\n",
              "      quickchartButtonEl.classList.add('colab-df-spinner');\n",
              "      try {\n",
              "        const charts = await google.colab.kernel.invokeFunction(\n",
              "            'suggestCharts', [key], {});\n",
              "      } catch (error) {\n",
              "        console.error('Error during call to suggestCharts:', error);\n",
              "      }\n",
              "      quickchartButtonEl.classList.remove('colab-df-spinner');\n",
              "      quickchartButtonEl.classList.add('colab-df-quickchart-complete');\n",
              "    }\n",
              "    (() => {\n",
              "      let quickchartButtonEl =\n",
              "        document.querySelector('#df-9a65c637-afe5-4d3c-bbaa-00740a48a926 button');\n",
              "      quickchartButtonEl.style.display =\n",
              "        google.colab.kernel.accessAllowed ? 'block' : 'none';\n",
              "    })();\n",
              "  </script>\n",
              "</div>\n",
              "\n",
              "    </div>\n",
              "  </div>\n"
            ],
            "application/vnd.google.colaboratory.intrinsic+json": {
              "type": "dataframe",
              "variable_name": "dataset"
            }
          },
          "metadata": {},
          "execution_count": 5
        }
      ]
    },
    {
      "cell_type": "code",
      "source": [
        "dataset.hist(column=\"formation_energy_per_atom\", bins=200)"
      ],
      "metadata": {
        "colab": {
          "base_uri": "https://localhost:8080/",
          "height": 488
        },
        "id": "6KbZvkmJXY4U",
        "outputId": "c3025801-6641-4b6d-9f15-97e81d6a9185"
      },
      "execution_count": 6,
      "outputs": [
        {
          "output_type": "execute_result",
          "data": {
            "text/plain": [
              "array([[<Axes: title={'center': 'formation_energy_per_atom'}>]],\n",
              "      dtype=object)"
            ]
          },
          "metadata": {},
          "execution_count": 6
        },
        {
          "output_type": "display_data",
          "data": {
            "text/plain": [
              "<Figure size 640x480 with 1 Axes>"
            ],
            "image/png": "[encoded data removed]"
          },
          "metadata": {}
        }
      ]
    },
    {
      "cell_type": "code",
      "source": [
        "import json\n",
        "config_path=\"oqmd_dataset/config.json\"\n",
        "with open(config_path) as f:\n",
        "  config = json.load(f)"
      ],
      "metadata": {
        "id": "9Zze8q-bXu97"
      },
      "execution_count": 7,
      "outputs": []
    },
    {
      "cell_type": "code",
      "source": [
        "config.keys()"
      ],
      "metadata": {
        "colab": {
          "base_uri": "https://localhost:8080/"
        },
        "id": "cle9DKTkZ0Xu",
        "outputId": "262603ac-8ec9-4c41-9b51-73eefc1d04d6"
      },
      "execution_count": 8,
      "outputs": [
        {
          "output_type": "execute_result",
          "data": {
            "text/plain": [
              "dict_keys(['node_vectors', 'atomic_numbers'])"
            ]
          },
          "metadata": {},
          "execution_count": 8
        }
      ]
    },
    {
      "cell_type": "code",
      "source": [
        "for element_id in range(5):\n",
        "  z = config[\"atomic_numbers\"][element_id]\n",
        "  v = config[\"node_vectors\"][element_id]\n",
        "  print(f'{z:2d} {v[:10]}')\n",
        "print('')\n",
        "for element_id in range(84,89):\n",
        "  z = config[\"atomic_numbers\"][element_id]\n",
        "  v = config[\"node_vectors\"][element_id]\n",
        "  print(f'{z:2d} {v[79:]}')"
      ],
      "metadata": {
        "colab": {
          "base_uri": "https://localhost:8080/"
        },
        "id": "1ooGHONNZ_nC",
        "outputId": "f26731bc-29c7-4c7c-a3b0-377a8084ae1e"
      },
      "execution_count": 9,
      "outputs": [
        {
          "output_type": "stream",
          "name": "stdout",
          "text": [
            " 1 [1.0, 0.0, 0.0, 0.0, 0.0, 0.0, 0.0, 0.0, 0.0, 0.0]\n",
            " 2 [0.0, 1.0, 0.0, 0.0, 0.0, 0.0, 0.0, 0.0, 0.0, 0.0]\n",
            " 3 [0.0, 0.0, 1.0, 0.0, 0.0, 0.0, 0.0, 0.0, 0.0, 0.0]\n",
            " 4 [0.0, 0.0, 0.0, 1.0, 0.0, 0.0, 0.0, 0.0, 0.0, 0.0]\n",
            " 5 [0.0, 0.0, 0.0, 0.0, 1.0, 0.0, 0.0, 0.0, 0.0, 0.0]\n",
            "\n",
            "90 [0.0, 0.0, 0.0, 0.0, 0.0, 1.0, 0.0, 0.0, 0.0, 0.0]\n",
            "91 [0.0, 0.0, 0.0, 0.0, 0.0, 0.0, 1.0, 0.0, 0.0, 0.0]\n",
            "92 [0.0, 0.0, 0.0, 0.0, 0.0, 0.0, 0.0, 1.0, 0.0, 0.0]\n",
            "93 [0.0, 0.0, 0.0, 0.0, 0.0, 0.0, 0.0, 0.0, 1.0, 0.0]\n",
            "94 [0.0, 0.0, 0.0, 0.0, 0.0, 0.0, 0.0, 0.0, 0.0, 1.0]\n"
          ]
        }
      ]
    },
    {
      "cell_type": "markdown",
      "source": [
        "\n"
      ],
      "metadata": {
        "id": "R5tDLVBgJnH4"
      }
    },
    {
      "cell_type": "code",
      "source": [
        "!cat oqmd_dataset/oqmd_dataset_utils.py"
      ],
      "metadata": {
        "colab": {
          "base_uri": "https://localhost:8080/"
        },
        "id": "7u0Zhm34XgwY",
        "outputId": "46f1d7f4-f844-418a-b6ce-c71e20dc3181"
      },
      "execution_count": 10,
      "outputs": [
        {
          "output_type": "stream",
          "name": "stdout",
          "text": [
            "import numpy as np\n",
            "\n",
            "def load_graph_data(graph_data_path):\n",
            "  \"\"\"\n",
            "  This function loads graph data from the specified file.\n",
            "\n",
            "  Example:\n",
            "    >>> graphs = load_graph_data(\"oqmd_dataset/graph_data.npz\")\n",
            "    >>> oqmd_id = \"oqmd-758369\"\n",
            "    >>> nodes, neighbors = graphs[oqmd_id]\n",
            "    >>> nodes\n",
            "    [38, 38, 38, 38, 38, 38, 38, 38, 39, 39, 39, 39, 39, 39, 39, 39]\n",
            "    >>> neighbors\n",
            "    [[1, 6, 6, 7, 7, 13, 13],\n",
            "     [0, 0, 2, 7, 7, 11, 11, 13, 13, 14, 14],\n",
            "     [1, 3, 3, 4, 4, 11, 11, 14, 14, 15, 15],\n",
            "    ...\n",
            "  \"\"\"\n",
            "  graphs = np.load(graph_data_path, allow_pickle=True, encoding='latin1')['graph_dict'].item()\n",
            "  graphs = { k.decode() : v for k, v in graphs.items() }\n",
            "  return graphs\n"
          ]
        }
      ]
    },
    {
      "cell_type": "markdown",
      "source": [],
      "metadata": {
        "id": "jyOZbhDuJ0Jr"
      }
    },
    {
      "cell_type": "code",
      "source": [
        "import sys\n",
        "\n",
        "sys.path.append(\"oqmd_dataset\")\n",
        "\n",
        "from oqmd_dataset_utils import load_graph_data\n",
        "\n",
        "graphs = load_graph_data(\"oqmd_dataset/graph_data.npz\")"
      ],
      "metadata": {
        "id": "WvF7U3gdXyxa"
      },
      "execution_count": 11,
      "outputs": []
    },
    {
      "cell_type": "markdown",
      "source": [
        "\n"
      ],
      "metadata": {
        "id": "f6Xq813RI4cx"
      }
    },
    {
      "cell_type": "code",
      "source": [
        "formula0 = \"ZrO2\"\n",
        "\n",
        "def get_subset(formula):\n",
        "  return dataset[dataset[\"formula\"] == formula].sort_values(\"formation_energy_per_atom\")\n",
        "\n",
        "oqmd_id = get_subset(formula=formula0)[\"name\"].tolist()[0]\n",
        "nodes, neighbors = graphs[oqmd_id]"
      ],
      "metadata": {
        "id": "bbCP_9v8b-VH"
      },
      "execution_count": 12,
      "outputs": []
    },
    {
      "cell_type": "code",
      "source": [
        "oqmd_id"
      ],
      "metadata": {
        "colab": {
          "base_uri": "https://localhost:8080/",
          "height": 36
        },
        "id": "yphv4gzoecTn",
        "outputId": "5afe04b8-1e2f-4456-8186-0cfbf22075dc"
      },
      "execution_count": 13,
      "outputs": [
        {
          "output_type": "execute_result",
          "data": {
            "text/plain": [
              "'oqmd-3278'"
            ],
            "application/vnd.google.colaboratory.intrinsic+json": {
              "type": "string"
            }
          },
          "metadata": {},
          "execution_count": 13
        }
      ]
    },
    {
      "cell_type": "code",
      "source": [
        "nodes"
      ],
      "metadata": {
        "colab": {
          "base_uri": "https://localhost:8080/"
        },
        "id": "yV2PIatheua_",
        "outputId": "c9c3837e-e482-4bf4-abe1-60e64dc76ff3"
      },
      "execution_count": 14,
      "outputs": [
        {
          "output_type": "execute_result",
          "data": {
            "text/plain": [
              "[7, 7, 7, 7, 7, 7, 7, 7, 39, 39, 39, 39]"
            ]
          },
          "metadata": {},
          "execution_count": 14
        }
      ]
    },
    {
      "cell_type": "code",
      "source": [
        "neighbors"
      ],
      "metadata": {
        "colab": {
          "base_uri": "https://localhost:8080/"
        },
        "id": "W6ZoLtKZewmm",
        "outputId": "f2bce068-af28-43f7-de65-18e5fbcdef37"
      },
      "execution_count": 15,
      "outputs": [
        {
          "output_type": "execute_result",
          "data": {
            "text/plain": [
              "[[8, 9],\n",
              " [8, 9],\n",
              " [8, 9],\n",
              " [8, 9],\n",
              " [10, 11],\n",
              " [10, 11],\n",
              " [10, 11],\n",
              " [10, 11],\n",
              " [0, 1, 2, 3, 6, 9, 9, 10, 10, 11, 11],\n",
              " [0, 1, 2, 3, 5, 8, 8, 10, 10, 11, 11],\n",
              " [2, 4, 5, 6, 7, 8, 8, 9, 9, 11, 11],\n",
              " [1, 4, 5, 6, 7, 8, 8, 9, 9, 10, 10]]"
            ]
          },
          "metadata": {},
          "execution_count": 15
        }
      ]
    },
    {
      "cell_type": "code",
      "source": [
        "dataset[dataset[\"name\"] == oqmd_id]"
      ],
      "metadata": {
        "colab": {
          "base_uri": "https://localhost:8080/",
          "height": 118
        },
        "id": "O-HaTjxLLTyA",
        "outputId": "8840c047-7100-4a11-9f8e-3adb179a2775"
      },
      "execution_count": 16,
      "outputs": [
        {
          "output_type": "execute_result",
          "data": {
            "text/plain": [
              "             name formula  spacegroup  nelements  nsites  energy_per_atom  \\\n",
              "183001  oqmd-3278    ZrO2          14          2      12         -9.49757   \n",
              "\n",
              "        formation_energy_per_atom  band_gap  volume_per_atom  \\\n",
              "183001                  -3.632982     3.843        11.965782   \n",
              "\n",
              "        magnetization_per_atom  atomic_volume_per_atom  volume_deviation  \n",
              "183001                0.000015               12.514709         -0.045875  "
            ],
            "text/html": [
              "\n",
              "  <div id=\"df-bc7807f9-1472-4bd2-91ee-174ce84f45f8\" class=\"colab-df-container\">\n",
              "    <div>\n",
              "<style scoped>\n",
              "    .dataframe tbody tr th:only-of-type {\n",
              "        vertical-align: middle;\n",
              "    }\n",
              "\n",
              "    .dataframe tbody tr th {\n",
              "        vertical-align: top;\n",
              "    }\n",
              "\n",
              "    .dataframe thead th {\n",
              "        text-align: right;\n",
              "    }\n",
              "</style>\n",
              "<table border=\"1\" class=\"dataframe\">\n",
              "  <thead>\n",
              "    <tr style=\"text-align: right;\">\n",
              "      <th></th>\n",
              "      <th>name</th>\n",
              "      <th>formula</th>\n",
              "      <th>spacegroup</th>\n",
              "      <th>nelements</th>\n",
              "      <th>nsites</th>\n",
              "      <th>energy_per_atom</th>\n",
              "      <th>formation_energy_per_atom</th>\n",
              "      <th>band_gap</th>\n",
              "      <th>volume_per_atom</th>\n",
              "      <th>magnetization_per_atom</th>\n",
              "      <th>atomic_volume_per_atom</th>\n",
              "      <th>volume_deviation</th>\n",
              "    </tr>\n",
              "  </thead>\n",
              "  <tbody>\n",
              "    <tr>\n",
              "      <th>183001</th>\n",
              "      <td>oqmd-3278</td>\n",
              "      <td>ZrO2</td>\n",
              "      <td>14</td>\n",
              "      <td>2</td>\n",
              "      <td>12</td>\n",
              "      <td>-9.49757</td>\n",
              "      <td>-3.632982</td>\n",
              "      <td>3.843</td>\n",
              "      <td>11.965782</td>\n",
              "      <td>0.000015</td>\n",
              "      <td>12.514709</td>\n",
              "      <td>-0.045875</td>\n",
              "    </tr>\n",
              "  </tbody>\n",
              "</table>\n",
              "</div>\n",
              "    <div class=\"colab-df-buttons\">\n",
              "\n",
              "  <div class=\"colab-df-container\">\n",
              "    <button class=\"colab-df-convert\" onclick=\"convertToInteractive('df-bc7807f9-1472-4bd2-91ee-174ce84f45f8')\"\n",
              "            title=\"Convert this dataframe to an interactive table.\"\n",
              "            style=\"display:none;\">\n",
              "\n",
              "  <svg xmlns=\"http://www.w3.org/2000/svg\" height=\"24px\" viewBox=\"0 -960 960 960\">\n",
              "    <path d=\"M120-120v-720h720v720H120Zm60-500h600v-160H180v160Zm220 220h160v-160H400v160Zm0 220h160v-160H400v160ZM180-400h160v-160H180v160Zm440 0h160v-160H620v160ZM180-180h160v-160H180v160Zm440 0h160v-160H620v160Z\"/>\n",
              "  </svg>\n",
              "    </button>\n",
              "\n",
              "  <style>\n",
              "    .colab-df-container {\n",
              "      display:flex;\n",
              "      gap: 12px;\n",
              "    }\n",
              "\n",
              "    .colab-df-convert {\n",
              "      background-color: #E8F0FE;\n",
              "      border: none;\n",
              "      border-radius: 50%;\n",
              "      cursor: pointer;\n",
              "      display: none;\n",
              "      fill: #1967D2;\n",
              "      height: 32px;\n",
              "      padding: 0 0 0 0;\n",
              "      width: 32px;\n",
              "    }\n",
              "\n",
              "    .colab-df-convert:hover {\n",
              "      background-color: #E2EBFA;\n",
              "      box-shadow: 0px 1px 2px rgba(60, 64, 67, 0.3), 0px 1px 3px 1px rgba(60, 64, 67, 0.15);\n",
              "      fill: #174EA6;\n",
              "    }\n",
              "\n",
              "    .colab-df-buttons div {\n",
              "      margin-bottom: 4px;\n",
              "    }\n",
              "\n",
              "    [theme=dark] .colab-df-convert {\n",
              "      background-color: #3B4455;\n",
              "      fill: #D2E3FC;\n",
              "    }\n",
              "\n",
              "    [theme=dark] .colab-df-convert:hover {\n",
              "      background-color: #434B5C;\n",
              "      box-shadow: 0px 1px 3px 1px rgba(0, 0, 0, 0.15);\n",
              "      filter: drop-shadow(0px 1px 2px rgba(0, 0, 0, 0.3));\n",
              "      fill: #FFFFFF;\n",
              "    }\n",
              "  </style>\n",
              "\n",
              "    <script>\n",
              "      const buttonEl =\n",
              "        document.querySelector('#df-bc7807f9-1472-4bd2-91ee-174ce84f45f8 button.colab-df-convert');\n",
              "      buttonEl.style.display =\n",
              "        google.colab.kernel.accessAllowed ? 'block' : 'none';\n",
              "\n",
              "      async function convertToInteractive(key) {\n",
              "        const element = document.querySelector('#df-bc7807f9-1472-4bd2-91ee-174ce84f45f8');\n",
              "        const dataTable =\n",
              "          await google.colab.kernel.invokeFunction('convertToInteractive',\n",
              "                                                    [key], {});\n",
              "        if (!dataTable) return;\n",
              "\n",
              "        const docLinkHtml = 'Like what you see? Visit the ' +\n",
              "          '<a target=\"_blank\" href=https://colab.research.google.com/notebooks/data_table.ipynb>data table notebook</a>'\n",
              "          + ' to learn more about interactive tables.';\n",
              "        element.innerHTML = '';\n",
              "        dataTable['output_type'] = 'display_data';\n",
              "        await google.colab.output.renderOutput(dataTable, element);\n",
              "        const docLink = document.createElement('div');\n",
              "        docLink.innerHTML = docLinkHtml;\n",
              "        element.appendChild(docLink);\n",
              "      }\n",
              "    </script>\n",
              "  </div>\n",
              "\n",
              "\n",
              "    </div>\n",
              "  </div>\n"
            ],
            "application/vnd.google.colaboratory.intrinsic+json": {
              "type": "dataframe",
              "summary": "{\n  \"name\": \"dataset[dataset[\\\"name\\\"] == oqmd_id]\",\n  \"rows\": 1,\n  \"fields\": [\n    {\n      \"column\": \"name\",\n      \"properties\": {\n        \"dtype\": \"string\",\n        \"num_unique_values\": 1,\n        \"samples\": [\n          \"oqmd-3278\"\n        ],\n        \"semantic_type\": \"\",\n        \"description\": \"\"\n      }\n    },\n    {\n      \"column\": \"formula\",\n      \"properties\": {\n        \"dtype\": \"string\",\n        \"num_unique_values\": 1,\n        \"samples\": [\n          \"ZrO2\"\n        ],\n        \"semantic_type\": \"\",\n        \"description\": \"\"\n      }\n    },\n    {\n      \"column\": \"spacegroup\",\n      \"properties\": {\n        \"dtype\": \"number\",\n        \"std\": null,\n        \"min\": 14,\n        \"max\": 14,\n        \"num_unique_values\": 1,\n        \"samples\": [\n          14\n        ],\n        \"semantic_type\": \"\",\n        \"description\": \"\"\n      }\n    },\n    {\n      \"column\": \"nelements\",\n      \"properties\": {\n        \"dtype\": \"number\",\n        \"std\": null,\n        \"min\": 2,\n        \"max\": 2,\n        \"num_unique_values\": 1,\n        \"samples\": [\n          2\n        ],\n        \"semantic_type\": \"\",\n        \"description\": \"\"\n      }\n    },\n    {\n      \"column\": \"nsites\",\n      \"properties\": {\n        \"dtype\": \"number\",\n        \"std\": null,\n        \"min\": 12,\n        \"max\": 12,\n        \"num_unique_values\": 1,\n        \"samples\": [\n          12\n        ],\n        \"semantic_type\": \"\",\n        \"description\": \"\"\n      }\n    },\n    {\n      \"column\": \"energy_per_atom\",\n      \"properties\": {\n        \"dtype\": \"number\",\n        \"std\": null,\n        \"min\": -9.49757019,\n        \"max\": -9.49757019,\n        \"num_unique_values\": 1,\n        \"samples\": [\n          -9.49757019\n        ],\n        \"semantic_type\": \"\",\n        \"description\": \"\"\n      }\n    },\n    {\n      \"column\": \"formation_energy_per_atom\",\n      \"properties\": {\n        \"dtype\": \"number\",\n        \"std\": null,\n        \"min\": -3.63298243058584,\n        \"max\": -3.63298243058584,\n        \"num_unique_values\": 1,\n        \"samples\": [\n          -3.63298243058584\n        ],\n        \"semantic_type\": \"\",\n        \"description\": \"\"\n      }\n    },\n    {\n      \"column\": \"band_gap\",\n      \"properties\": {\n        \"dtype\": \"number\",\n        \"std\": null,\n        \"min\": 3.843,\n        \"max\": 3.843,\n        \"num_unique_values\": 1,\n        \"samples\": [\n          3.843\n        ],\n        \"semantic_type\": \"\",\n        \"description\": \"\"\n      }\n    },\n    {\n      \"column\": \"volume_per_atom\",\n      \"properties\": {\n        \"dtype\": \"number\",\n        \"std\": null,\n        \"min\": 11.96578175579267,\n        \"max\": 11.96578175579267,\n        \"num_unique_values\": 1,\n        \"samples\": [\n          11.96578175579267\n        ],\n        \"semantic_type\": \"\",\n        \"description\": \"\"\n      }\n    },\n    {\n      \"column\": \"magnetization_per_atom\",\n      \"properties\": {\n        \"dtype\": \"number\",\n        \"std\": null,\n        \"min\": 1.505e-05,\n        \"max\": 1.505e-05,\n        \"num_unique_values\": 1,\n        \"samples\": [\n          1.505e-05\n        ],\n        \"semantic_type\": \"\",\n        \"description\": \"\"\n      }\n    },\n    {\n      \"column\": \"atomic_volume_per_atom\",\n      \"properties\": {\n        \"dtype\": \"number\",\n        \"std\": null,\n        \"min\": 12.514708868500138,\n        \"max\": 12.514708868500138,\n        \"num_unique_values\": 1,\n        \"samples\": [\n          12.514708868500138\n        ],\n        \"semantic_type\": \"\",\n        \"description\": \"\"\n      }\n    },\n    {\n      \"column\": \"volume_deviation\",\n      \"properties\": {\n        \"dtype\": \"number\",\n        \"std\": null,\n        \"min\": -0.045874738810252,\n        \"max\": -0.045874738810252,\n        \"num_unique_values\": 1,\n        \"samples\": [\n          -0.045874738810252\n        ],\n        \"semantic_type\": \"\",\n        \"description\": \"\"\n      }\n    }\n  ]\n}"
            }
          },
          "metadata": {},
          "execution_count": 16
        }
      ]
    },
    {
      "cell_type": "markdown",
      "source": [
        "\n"
      ],
      "metadata": {
        "id": "GykkVaSr4e30"
      }
    },
    {
      "cell_type": "code",
      "source": [
        "!wget -q https://github.com/lmmentel/mendeleev/blob/master/mendeleev/elements.db?raw=true -O elements.db"
      ],
      "metadata": {
        "id": "xwS2T9891FS-"
      },
      "execution_count": 17,
      "outputs": []
    },
    {
      "cell_type": "code",
      "source": [
        "from dataclasses import dataclass\n",
        "\n",
        "@dataclass\n",
        "class Element:\n",
        "    symbol: float\n",
        "    jmol_color: float"
      ],
      "metadata": {
        "id": "5Apnhd3Y3jXp"
      },
      "execution_count": 18,
      "outputs": []
    },
    {
      "cell_type": "code",
      "source": [
        "import sqlite3\n",
        "dbname = 'elements.db'\n",
        "conn = sqlite3.connect(dbname)\n",
        "cur = conn.cursor()\n",
        "cur.execute('SELECT atomic_number, symbol, jmol_color FROM elements')\n",
        "element = dict()\n",
        "for row in cur:\n",
        "    element[row[0]] = Element(symbol=row[1], jmol_color=row[2])\n",
        "conn.close()"
      ],
      "metadata": {
        "id": "iggl5Jx31IqX"
      },
      "execution_count": 19,
      "outputs": []
    },
    {
      "cell_type": "code",
      "source": [
        "import graphviz"
      ],
      "metadata": {
        "id": "zn9ntLN_Tu08"
      },
      "execution_count": 20,
      "outputs": []
    },
    {
      "cell_type": "code",
      "source": [
        "dot = graphviz.Digraph(f'{oqmd_id}', comment=f'{formula0} in OQMD ({oqmd_id})', engine='neato')\n",
        "dot.attr(overlap='false', size='6,6')\n",
        "\n",
        "dot.attr('node', shape='circle', style='filled')\n",
        "for i, element_id in enumerate(nodes):\n",
        "  z = config[\"atomic_numbers\"][element_id]\n",
        "  e = element[z]\n",
        "  dot.node(f'{i}', f'{e.symbol}@{i}', color=e.jmol_color)\n",
        "\n",
        "dot.attr('edge', constraint='false', penwidth='2')\n",
        "for i, element_id in enumerate(nodes):\n",
        "  z = config[\"atomic_numbers\"][element_id]\n",
        "  e = element[z]\n",
        "  for j in neighbors[i]:\n",
        "    dot.edge(f'{i}', f'{j}', color=e.jmol_color)\n"
      ],
      "metadata": {
        "id": "TRD8D7c4lnOX"
      },
      "execution_count": 21,
      "outputs": []
    },
    {
      "cell_type": "code",
      "source": [
        "# print(dot.source)"
      ],
      "metadata": {
        "id": "fxJ5Jj7AoOPj"
      },
      "execution_count": 22,
      "outputs": []
    },
    {
      "cell_type": "code",
      "source": [
        "dot"
      ],
      "metadata": {
        "colab": {
          "base_uri": "https://localhost:8080/",
          "height": 418
        },
        "id": "NTVGx5eToQz7",
        "outputId": "d36a3433-96a2-45a2-9b98-9efb2f22275c"
      },
      "execution_count": 23,
      "outputs": [
        {
          "output_type": "execute_result",
          "data": {
            "image/svg+xml": "<?xml version=\"1.0\" encoding=\"UTF-8\" standalone=\"no\"?>\n<!DOCTYPE svg PUBLIC \"-//W3C//DTD SVG 1.1//EN\"\n \"http://www.w3.org/Graphics/SVG/1.1/DTD/svg11.dtd\">\n<!-- Generated by graphviz version 2.43.0 (0)\n -->\n<!-- Title: oqmd&#45;3278 Pages: 1 -->\n<svg width=\"432pt\" height=\"298pt\"\n viewBox=\"0.00 0.00 432.00 297.59\" xmlns=\"http://www.w3.org/2000/svg\" xmlns:xlink=\"http://www.w3.org/1999/xlink\">\n<g id=\"graph0\" class=\"graph\" transform=\"scale(0.5 0.5) rotate(0) translate(4 591.19)\">\n<title>oqmd&#45;3278</title>\n<polygon fill=\"white\" stroke=\"transparent\" points=\"-4,4 -4,-591.19 860.03,-591.19 860.03,4 -4,4\"/>\n<!-- 0 -->\n<g id=\"node1\" class=\"node\">\n<title>0</title>\n<ellipse fill=\"#ff0d0d\" stroke=\"#ff0d0d\" cx=\"29.9\" cy=\"-266.56\" rx=\"29.8\" ry=\"29.8\"/>\n<text text-anchor=\"middle\" x=\"29.9\" y=\"-262.86\" font-family=\"Times,serif\" font-size=\"14.00\">O@0</text>\n</g>\n<!-- 8 -->\n<g id=\"node9\" class=\"node\">\n<title>8</title>\n<ellipse fill=\"#94e0e0\" stroke=\"#94e0e0\" cx=\"286.52\" cy=\"-258.21\" rx=\"31.7\" ry=\"31.7\"/>\n<text text-anchor=\"middle\" x=\"286.52\" y=\"-254.51\" font-family=\"Times,serif\" font-size=\"14.00\">Zr@8</text>\n</g>\n<!-- 0&#45;&gt;8 -->\n<g id=\"edge1\" class=\"edge\">\n<title>0&#45;&gt;8</title>\n<path fill=\"none\" stroke=\"#ff0d0d\" stroke-width=\"2\" d=\"M59.73,-270.1C105.37,-271.37 192.67,-268.74 244.64,-264.72\"/>\n<polygon fill=\"#ff0d0d\" stroke=\"#ff0d0d\" stroke-width=\"2\" points=\"245.17,-268.19 254.85,-263.87 244.59,-261.22 245.17,-268.19\"/>\n</g>\n<!-- 9 -->\n<g id=\"node10\" class=\"node\">\n<title>9</title>\n<ellipse fill=\"#94e0e0\" stroke=\"#94e0e0\" cx=\"322.07\" cy=\"-381.56\" rx=\"31.7\" ry=\"31.7\"/>\n<text text-anchor=\"middle\" x=\"322.07\" y=\"-377.86\" font-family=\"Times,serif\" font-size=\"14.00\">Zr@9</text>\n</g>\n<!-- 0&#45;&gt;9 -->\n<g id=\"edge2\" class=\"edge\">\n<title>0&#45;&gt;9</title>\n<path fill=\"none\" stroke=\"#ff0d0d\" stroke-width=\"2\" d=\"M56.12,-281.36C107.16,-304.91 220.08,-349.58 281.08,-370.57\"/>\n<polygon fill=\"#ff0d0d\" stroke=\"#ff0d0d\" stroke-width=\"2\" points=\"280.18,-373.95 290.77,-373.84 282.42,-367.32 280.18,-373.95\"/>\n</g>\n<!-- 1 -->\n<g id=\"node2\" class=\"node\">\n<title>1</title>\n<ellipse fill=\"#ff0d0d\" stroke=\"#ff0d0d\" cx=\"534.31\" cy=\"-512.87\" rx=\"29.8\" ry=\"29.8\"/>\n<text text-anchor=\"middle\" x=\"534.31\" y=\"-509.17\" font-family=\"Times,serif\" font-size=\"14.00\">O@1</text>\n</g>\n<!-- 1&#45;&gt;8 -->\n<g id=\"edge3\" class=\"edge\">\n<title>1&#45;&gt;8</title>\n<path fill=\"none\" stroke=\"#ff0d0d\" stroke-width=\"2\" d=\"M516.44,-488.85C474.95,-441.15 372.11,-335.16 319.11,-285.18\"/>\n<polygon fill=\"#ff0d0d\" stroke=\"#ff0d0d\" stroke-width=\"2\" points=\"321.37,-282.49 311.67,-278.22 316.59,-287.61 321.37,-282.49\"/>\n</g>\n<!-- 1&#45;&gt;9 -->\n<g id=\"edge4\" class=\"edge\">\n<title>1&#45;&gt;9</title>\n<path fill=\"none\" stroke=\"#ff0d0d\" stroke-width=\"2\" d=\"M511.53,-493.42C475.32,-467.85 404.4,-423.72 360.32,-399.12\"/>\n<polygon fill=\"#ff0d0d\" stroke=\"#ff0d0d\" stroke-width=\"2\" points=\"361.79,-395.93 351.34,-394.18 358.41,-402.07 361.79,-395.93\"/>\n</g>\n<!-- 2 -->\n<g id=\"node3\" class=\"node\">\n<title>2</title>\n<ellipse fill=\"#ff0d0d\" stroke=\"#ff0d0d\" cx=\"401.97\" cy=\"-29.9\" rx=\"29.8\" ry=\"29.8\"/>\n<text text-anchor=\"middle\" x=\"401.97\" y=\"-26.2\" font-family=\"Times,serif\" font-size=\"14.00\">O@2</text>\n</g>\n<!-- 2&#45;&gt;8 -->\n<g id=\"edge5\" class=\"edge\">\n<title>2&#45;&gt;8</title>\n<path fill=\"none\" stroke=\"#ff0d0d\" stroke-width=\"2\" d=\"M384.46,-54.49C361.48,-93.86 322.09,-171.3 300.81,-218.55\"/>\n<polygon fill=\"#ff0d0d\" stroke=\"#ff0d0d\" stroke-width=\"2\" points=\"297.53,-217.31 296.67,-227.87 303.93,-220.14 297.53,-217.31\"/>\n</g>\n<!-- 2&#45;&gt;9 -->\n<g id=\"edge6\" class=\"edge\">\n<title>2&#45;&gt;9</title>\n<path fill=\"none\" stroke=\"#ff0d0d\" stroke-width=\"2\" d=\"M391.53,-58.1C373.87,-119.82 340.21,-267.07 326.95,-339.66\"/>\n<polygon fill=\"#ff0d0d\" stroke=\"#ff0d0d\" stroke-width=\"2\" points=\"323.45,-339.35 325.15,-349.81 330.35,-340.57 323.45,-339.35\"/>\n</g>\n<!-- 3 -->\n<g id=\"node4\" class=\"node\">\n<title>3</title>\n<ellipse fill=\"#ff0d0d\" stroke=\"#ff0d0d\" cx=\"102.23\" cy=\"-514.08\" rx=\"29.8\" ry=\"29.8\"/>\n<text text-anchor=\"middle\" x=\"102.23\" y=\"-510.38\" font-family=\"Times,serif\" font-size=\"14.00\">O@3</text>\n</g>\n<!-- 3&#45;&gt;8 -->\n<g id=\"edge7\" class=\"edge\">\n<title>3&#45;&gt;8</title>\n<path fill=\"none\" stroke=\"#ff0d0d\" stroke-width=\"2\" d=\"M122.93,-492.43C158.5,-448.6 230.35,-349.2 265.88,-295.02\"/>\n<polygon fill=\"#ff0d0d\" stroke=\"#ff0d0d\" stroke-width=\"2\" points=\"268.96,-296.7 271.46,-286.4 263.08,-292.89 268.96,-296.7\"/>\n</g>\n<!-- 3&#45;&gt;9 -->\n<g id=\"edge8\" class=\"edge\">\n<title>3&#45;&gt;9</title>\n<path fill=\"none\" stroke=\"#ff0d0d\" stroke-width=\"2\" d=\"M130.21,-502.49C170.73,-481.27 245.49,-436.45 288.78,-407.64\"/>\n<polygon fill=\"#ff0d0d\" stroke=\"#ff0d0d\" stroke-width=\"2\" points=\"290.92,-410.42 297.26,-401.92 287.01,-404.61 290.92,-410.42\"/>\n</g>\n<!-- 4 -->\n<g id=\"node5\" class=\"node\">\n<title>4</title>\n<ellipse fill=\"#ff0d0d\" stroke=\"#ff0d0d\" cx=\"826.14\" cy=\"-316.25\" rx=\"29.8\" ry=\"29.8\"/>\n<text text-anchor=\"middle\" x=\"826.14\" y=\"-312.55\" font-family=\"Times,serif\" font-size=\"14.00\">O@4</text>\n</g>\n<!-- 10 -->\n<g id=\"node11\" class=\"node\">\n<title>10</title>\n<ellipse fill=\"#94e0e0\" stroke=\"#94e0e0\" cx=\"536.73\" cy=\"-192.88\" rx=\"36.29\" ry=\"36.29\"/>\n<text text-anchor=\"middle\" x=\"536.73\" y=\"-189.18\" font-family=\"Times,serif\" font-size=\"14.00\">Zr@10</text>\n</g>\n<!-- 4&#45;&gt;10 -->\n<g id=\"edge9\" class=\"edge\">\n<title>4&#45;&gt;10</title>\n<path fill=\"none\" stroke=\"#ff0d0d\" stroke-width=\"2\" d=\"M800.28,-300.7C750.89,-276.21 642.7,-229.8 581.39,-206.53\"/>\n<polygon fill=\"#ff0d0d\" stroke=\"#ff0d0d\" stroke-width=\"2\" points=\"582.56,-203.23 571.97,-203 580.11,-209.79 582.56,-203.23\"/>\n</g>\n<!-- 11 -->\n<g id=\"node12\" class=\"node\">\n<title>11</title>\n<ellipse fill=\"#94e0e0\" stroke=\"#94e0e0\" cx=\"566.46\" cy=\"-309.79\" rx=\"36.29\" ry=\"36.29\"/>\n<text text-anchor=\"middle\" x=\"566.46\" y=\"-306.09\" font-family=\"Times,serif\" font-size=\"14.00\">Zr@11</text>\n</g>\n<!-- 4&#45;&gt;11 -->\n<g id=\"edge10\" class=\"edge\">\n<title>4&#45;&gt;11</title>\n<path fill=\"none\" stroke=\"#ff0d0d\" stroke-width=\"2\" d=\"M796.46,-311.01C751.56,-307.19 665.99,-304.79 612.83,-305.63\"/>\n<polygon fill=\"#ff0d0d\" stroke=\"#ff0d0d\" stroke-width=\"2\" points=\"612.57,-302.14 602.65,-305.85 612.72,-309.14 612.57,-302.14\"/>\n</g>\n<!-- 5 -->\n<g id=\"node6\" class=\"node\">\n<title>5</title>\n<ellipse fill=\"#ff0d0d\" stroke=\"#ff0d0d\" cx=\"466.51\" cy=\"-557.3\" rx=\"29.8\" ry=\"29.8\"/>\n<text text-anchor=\"middle\" x=\"466.51\" y=\"-553.6\" font-family=\"Times,serif\" font-size=\"14.00\">O@5</text>\n</g>\n<!-- 5&#45;&gt;10 -->\n<g id=\"edge11\" class=\"edge\">\n<title>5&#45;&gt;10</title>\n<path fill=\"none\" stroke=\"#ff0d0d\" stroke-width=\"2\" d=\"M475.95,-528.82C491.61,-466.26 520.78,-316.32 532.46,-239.69\"/>\n<polygon fill=\"#ff0d0d\" stroke=\"#ff0d0d\" stroke-width=\"2\" points=\"535.99,-239.78 533.99,-229.38 529.06,-238.75 535.99,-239.78\"/>\n</g>\n<!-- 5&#45;&gt;11 -->\n<g id=\"edge12\" class=\"edge\">\n<title>5&#45;&gt;11</title>\n<path fill=\"none\" stroke=\"#ff0d0d\" stroke-width=\"2\" d=\"M481.7,-531.52C501.61,-489.64 535.54,-406.37 554.02,-354.63\"/>\n<polygon fill=\"#ff0d0d\" stroke=\"#ff0d0d\" stroke-width=\"2\" points=\"557.37,-355.64 557.39,-345.04 550.77,-353.32 557.37,-355.64\"/>\n</g>\n<!-- 6 -->\n<g id=\"node7\" class=\"node\">\n<title>6</title>\n<ellipse fill=\"#ff0d0d\" stroke=\"#ff0d0d\" cx=\"319.18\" cy=\"-41.17\" rx=\"29.8\" ry=\"29.8\"/>\n<text text-anchor=\"middle\" x=\"319.18\" y=\"-37.47\" font-family=\"Times,serif\" font-size=\"14.00\">O@6</text>\n</g>\n<!-- 6&#45;&gt;10 -->\n<g id=\"edge13\" class=\"edge\">\n<title>6&#45;&gt;10</title>\n<path fill=\"none\" stroke=\"#ff0d0d\" stroke-width=\"2\" d=\"M341.16,-61.94C377.38,-90.55 449.97,-141.5 495.83,-170.78\"/>\n<polygon fill=\"#ff0d0d\" stroke=\"#ff0d0d\" stroke-width=\"2\" points=\"494.02,-173.78 504.35,-176.16 497.76,-167.86 494.02,-173.78\"/>\n</g>\n<!-- 6&#45;&gt;11 -->\n<g id=\"edge14\" class=\"edge\">\n<title>6&#45;&gt;11</title>\n<path fill=\"none\" stroke=\"#ff0d0d\" stroke-width=\"2\" d=\"M336.54,-65.8C377.03,-114.97 477.86,-224.88 531.59,-278.83\"/>\n<polygon fill=\"#ff0d0d\" stroke=\"#ff0d0d\" stroke-width=\"2\" points=\"529.29,-281.48 538.85,-286.05 534.23,-276.52 529.29,-281.48\"/>\n</g>\n<!-- 7 -->\n<g id=\"node8\" class=\"node\">\n<title>7</title>\n<ellipse fill=\"#ff0d0d\" stroke=\"#ff0d0d\" cx=\"761.03\" cy=\"-63.68\" rx=\"29.8\" ry=\"29.8\"/>\n<text text-anchor=\"middle\" x=\"761.03\" y=\"-59.98\" font-family=\"Times,serif\" font-size=\"14.00\">O@7</text>\n</g>\n<!-- 7&#45;&gt;10 -->\n<g id=\"edge15\" class=\"edge\">\n<title>7&#45;&gt;10</title>\n<path fill=\"none\" stroke=\"#ff0d0d\" stroke-width=\"2\" d=\"M733.06,-74.6C692.99,-94.57 619.23,-136.74 574.4,-165.04\"/>\n<polygon fill=\"#ff0d0d\" stroke=\"#ff0d0d\" stroke-width=\"2\" points=\"572.38,-162.17 565.84,-170.5 576.15,-168.07 572.38,-162.17\"/>\n</g>\n<!-- 7&#45;&gt;11 -->\n<g id=\"edge16\" class=\"edge\">\n<title>7&#45;&gt;11</title>\n<path fill=\"none\" stroke=\"#ff0d0d\" stroke-width=\"2\" d=\"M739.1,-84.68C702.5,-125.9 629.61,-217.68 591.23,-270.47\"/>\n<polygon fill=\"#ff0d0d\" stroke=\"#ff0d0d\" stroke-width=\"2\" points=\"588.38,-268.44 585.38,-278.6 594.06,-272.53 588.38,-268.44\"/>\n</g>\n<!-- 8&#45;&gt;0 -->\n<g id=\"edge17\" class=\"edge\">\n<title>8&#45;&gt;0</title>\n<path fill=\"none\" stroke=\"#94e0e0\" stroke-width=\"2\" d=\"M254.65,-254.61C207.76,-253.45 120.28,-256.16 69.39,-260.23\"/>\n<polygon fill=\"#94e0e0\" stroke=\"#94e0e0\" stroke-width=\"2\" points=\"69.08,-256.74 59.42,-261.09 69.68,-263.72 69.08,-256.74\"/>\n</g>\n<!-- 8&#45;&gt;1 -->\n<g id=\"edge18\" class=\"edge\">\n<title>8&#45;&gt;1</title>\n<path fill=\"none\" stroke=\"#94e0e0\" stroke-width=\"2\" d=\"M306.02,-284.1C348.9,-333.07 451.21,-438.41 503.11,-487.21\"/>\n<polygon fill=\"#94e0e0\" stroke=\"#94e0e0\" stroke-width=\"2\" points=\"500.98,-490.01 510.69,-494.26 505.75,-484.89 500.98,-490.01\"/>\n</g>\n<!-- 8&#45;&gt;2 -->\n<g id=\"edge19\" class=\"edge\">\n<title>8&#45;&gt;2</title>\n<path fill=\"none\" stroke=\"#94e0e0\" stroke-width=\"2\" d=\"M305.05,-231.85C328.42,-191.53 367.56,-114.45 388.37,-68.04\"/>\n<polygon fill=\"#94e0e0\" stroke=\"#94e0e0\" stroke-width=\"2\" points=\"391.69,-69.18 392.52,-58.62 385.28,-66.36 391.69,-69.18\"/>\n</g>\n<!-- 8&#45;&gt;3 -->\n<g id=\"edge20\" class=\"edge\">\n<title>8&#45;&gt;3</title>\n<path fill=\"none\" stroke=\"#94e0e0\" stroke-width=\"2\" d=\"M264.37,-281.65C227.91,-326.86 156.28,-426.08 121.67,-479.11\"/>\n<polygon fill=\"#94e0e0\" stroke=\"#94e0e0\" stroke-width=\"2\" points=\"118.72,-477.22 116.24,-487.52 124.6,-481.01 118.72,-477.22\"/>\n</g>\n<!-- 8&#45;&gt;6 -->\n<g id=\"edge21\" class=\"edge\">\n<title>8&#45;&gt;6</title>\n<path fill=\"none\" stroke=\"#94e0e0\" stroke-width=\"2\" d=\"M291.27,-226.65C297.06,-188.17 306.85,-123.1 313.17,-81.16\"/>\n<polygon fill=\"#94e0e0\" stroke=\"#94e0e0\" stroke-width=\"2\" points=\"316.66,-81.43 314.69,-71.02 309.74,-80.39 316.66,-81.43\"/>\n</g>\n<!-- 8&#45;&gt;9 -->\n<g id=\"edge22\" class=\"edge\">\n<title>8&#45;&gt;9</title>\n<path fill=\"none\" stroke=\"#94e0e0\" stroke-width=\"2\" d=\"M277.81,-289.05C279.31,-308.01 285.69,-332.13 293.96,-351.03\"/>\n<polygon fill=\"#94e0e0\" stroke=\"#94e0e0\" stroke-width=\"2\" points=\"290.83,-352.6 298.3,-360.12 297.15,-349.59 290.83,-352.6\"/>\n</g>\n<!-- 8&#45;&gt;9 -->\n<g id=\"edge23\" class=\"edge\">\n<title>8&#45;&gt;9</title>\n<path fill=\"none\" stroke=\"#94e0e0\" stroke-width=\"2\" d=\"M310.31,-279.68C319.13,-296.54 326.57,-320.35 329.62,-340.76\"/>\n<polygon fill=\"#94e0e0\" stroke=\"#94e0e0\" stroke-width=\"2\" points=\"326.15,-341.23 330.78,-350.76 333.11,-340.42 326.15,-341.23\"/>\n</g>\n<!-- 8&#45;&gt;10 -->\n<g id=\"edge24\" class=\"edge\">\n<title>8&#45;&gt;10</title>\n<path fill=\"none\" stroke=\"#94e0e0\" stroke-width=\"2\" d=\"M318.12,-263.8C364.08,-260.41 449.04,-238.99 498.47,-219.01\"/>\n<polygon fill=\"#94e0e0\" stroke=\"#94e0e0\" stroke-width=\"2\" points=\"500.01,-222.16 507.86,-215.04 497.29,-215.71 500.01,-222.16\"/>\n</g>\n<!-- 8&#45;&gt;10 -->\n<g id=\"edge25\" class=\"edge\">\n<title>8&#45;&gt;10</title>\n<path fill=\"none\" stroke=\"#94e0e0\" stroke-width=\"2\" d=\"M311.36,-237.88C353.1,-218.37 437.69,-195.52 490.58,-188.79\"/>\n<polygon fill=\"#94e0e0\" stroke=\"#94e0e0\" stroke-width=\"2\" points=\"491.16,-192.24 500.71,-187.66 490.38,-185.29 491.16,-192.24\"/>\n</g>\n<!-- 8&#45;&gt;11 -->\n<g id=\"edge26\" class=\"edge\">\n<title>8&#45;&gt;11</title>\n<path fill=\"none\" stroke=\"#94e0e0\" stroke-width=\"2\" d=\"M313.08,-276.24C360.75,-294.14 461.17,-313.4 520.3,-316.69\"/>\n<polygon fill=\"#94e0e0\" stroke=\"#94e0e0\" stroke-width=\"2\" points=\"520.34,-320.19 530.48,-317.1 520.63,-313.2 520.34,-320.19\"/>\n</g>\n<!-- 8&#45;&gt;11 -->\n<g id=\"edge27\" class=\"edge\">\n<title>8&#45;&gt;11</title>\n<path fill=\"none\" stroke=\"#94e0e0\" stroke-width=\"2\" d=\"M317.77,-250.82C368.68,-251.09 469.37,-268.89 525.79,-286.9\"/>\n<polygon fill=\"#94e0e0\" stroke=\"#94e0e0\" stroke-width=\"2\" points=\"524.85,-290.27 535.45,-290.14 527.08,-283.64 524.85,-290.27\"/>\n</g>\n<!-- 9&#45;&gt;0 -->\n<g id=\"edge28\" class=\"edge\">\n<title>9&#45;&gt;0</title>\n<path fill=\"none\" stroke=\"#94e0e0\" stroke-width=\"2\" d=\"M294.01,-365.92C241.55,-341.88 128.57,-297.26 68.79,-276.84\"/>\n<polygon fill=\"#94e0e0\" stroke=\"#94e0e0\" stroke-width=\"2\" points=\"69.57,-273.41 58.97,-273.54 67.34,-280.04 69.57,-273.41\"/>\n</g>\n<!-- 9&#45;&gt;1 -->\n<g id=\"edge29\" class=\"edge\">\n<title>9&#45;&gt;1</title>\n<path fill=\"none\" stroke=\"#94e0e0\" stroke-width=\"2\" d=\"M346.49,-402.17C383.64,-428.23 454.48,-472.22 497.77,-496.26\"/>\n<polygon fill=\"#94e0e0\" stroke=\"#94e0e0\" stroke-width=\"2\" points=\"496.12,-499.35 506.57,-501.08 499.48,-493.21 496.12,-499.35\"/>\n</g>\n<!-- 9&#45;&gt;2 -->\n<g id=\"edge30\" class=\"edge\">\n<title>9&#45;&gt;2</title>\n<path fill=\"none\" stroke=\"#94e0e0\" stroke-width=\"2\" d=\"M333.02,-351.55C350.97,-288.27 384.54,-141.13 397.42,-69.92\"/>\n<polygon fill=\"#94e0e0\" stroke=\"#94e0e0\" stroke-width=\"2\" points=\"400.89,-70.44 399.17,-59.98 393.99,-69.23 400.89,-70.44\"/>\n</g>\n<!-- 9&#45;&gt;3 -->\n<g id=\"edge31\" class=\"edge\">\n<title>9&#45;&gt;3</title>\n<path fill=\"none\" stroke=\"#94e0e0\" stroke-width=\"2\" d=\"M292.27,-394.1C250.81,-415.98 176.16,-460.82 133.79,-489.15\"/>\n<polygon fill=\"#94e0e0\" stroke=\"#94e0e0\" stroke-width=\"2\" points=\"131.57,-486.43 125.26,-494.93 135.5,-492.22 131.57,-486.43\"/>\n</g>\n<!-- 9&#45;&gt;5 -->\n<g id=\"edge32\" class=\"edge\">\n<title>9&#45;&gt;5</title>\n<path fill=\"none\" stroke=\"#94e0e0\" stroke-width=\"2\" d=\"M342.46,-406.37C368.3,-437.81 412.87,-492.03 440.96,-526.21\"/>\n<polygon fill=\"#94e0e0\" stroke=\"#94e0e0\" stroke-width=\"2\" points=\"438.32,-528.51 447.38,-534.02 443.73,-524.07 438.32,-528.51\"/>\n</g>\n<!-- 9&#45;&gt;8 -->\n<g id=\"edge33\" class=\"edge\">\n<title>9&#45;&gt;8</title>\n<path fill=\"none\" stroke=\"#94e0e0\" stroke-width=\"2\" d=\"M319.04,-349.75C315.35,-333.51 309.78,-313.63 304.2,-296.55\"/>\n<polygon fill=\"#94e0e0\" stroke=\"#94e0e0\" stroke-width=\"2\" points=\"307.44,-295.22 300.92,-286.86 300.81,-297.46 307.44,-295.22\"/>\n</g>\n<!-- 9&#45;&gt;8 -->\n<g id=\"edge34\" class=\"edge\">\n<title>9&#45;&gt;8</title>\n<path fill=\"none\" stroke=\"#94e0e0\" stroke-width=\"2\" d=\"M307.71,-353.02C302.19,-337.3 296.32,-317.51 291.96,-300.08\"/>\n<polygon fill=\"#94e0e0\" stroke=\"#94e0e0\" stroke-width=\"2\" points=\"295.31,-299.04 289.58,-290.13 288.5,-300.67 295.31,-299.04\"/>\n</g>\n<!-- 9&#45;&gt;10 -->\n<g id=\"edge35\" class=\"edge\">\n<title>9&#45;&gt;10</title>\n<path fill=\"none\" stroke=\"#94e0e0\" stroke-width=\"2\" d=\"M352.76,-371.79C396.47,-345.3 474.08,-278.07 513.44,-233.52\"/>\n<polygon fill=\"#94e0e0\" stroke=\"#94e0e0\" stroke-width=\"2\" points=\"516.25,-235.62 520.1,-225.75 510.93,-231.06 516.25,-235.62\"/>\n</g>\n<!-- 9&#45;&gt;10 -->\n<g id=\"edge36\" class=\"edge\">\n<title>9&#45;&gt;10</title>\n<path fill=\"none\" stroke=\"#94e0e0\" stroke-width=\"2\" d=\"M335.7,-352.37C367.58,-312.42 444.2,-244.08 493.44,-210.77\"/>\n<polygon fill=\"#94e0e0\" stroke=\"#94e0e0\" stroke-width=\"2\" points=\"495.55,-213.57 502,-205.16 491.72,-207.71 495.55,-213.57\"/>\n</g>\n<!-- 9&#45;&gt;11 -->\n<g id=\"edge37\" class=\"edge\">\n<title>9&#45;&gt;11</title>\n<path fill=\"none\" stroke=\"#94e0e0\" stroke-width=\"2\" d=\"M353.9,-386.26C399,-381.58 481.07,-358.25 529.02,-337.15\"/>\n<polygon fill=\"#94e0e0\" stroke=\"#94e0e0\" stroke-width=\"2\" points=\"530.5,-340.32 538.13,-332.97 527.58,-333.96 530.5,-340.32\"/>\n</g>\n<!-- 9&#45;&gt;11 -->\n<g id=\"edge38\" class=\"edge\">\n<title>9&#45;&gt;11</title>\n<path fill=\"none\" stroke=\"#94e0e0\" stroke-width=\"2\" d=\"M346.3,-360.39C386.77,-339.95 468.43,-315.2 520.17,-307.01\"/>\n<polygon fill=\"#94e0e0\" stroke=\"#94e0e0\" stroke-width=\"2\" points=\"520.69,-310.48 530.1,-305.61 519.7,-303.55 520.69,-310.48\"/>\n</g>\n<!-- 10&#45;&gt;2 -->\n<g id=\"edge39\" class=\"edge\">\n<title>10&#45;&gt;2</title>\n<path fill=\"none\" stroke=\"#94e0e0\" stroke-width=\"2\" d=\"M513.26,-164.49C489.34,-135.56 452.35,-90.82 427.66,-60.96\"/>\n<polygon fill=\"#94e0e0\" stroke=\"#94e0e0\" stroke-width=\"2\" points=\"430.11,-58.44 421.04,-52.96 424.72,-62.9 430.11,-58.44\"/>\n</g>\n<!-- 10&#45;&gt;4 -->\n<g id=\"edge40\" class=\"edge\">\n<title>10&#45;&gt;4</title>\n<path fill=\"none\" stroke=\"#94e0e0\" stroke-width=\"2\" d=\"M568.45,-211.3C621.87,-237.26 729.57,-283.23 787.38,-304.82\"/>\n<polygon fill=\"#94e0e0\" stroke=\"#94e0e0\" stroke-width=\"2\" points=\"786.3,-308.15 796.9,-308.32 788.72,-301.58 786.3,-308.15\"/>\n</g>\n<!-- 10&#45;&gt;5 -->\n<g id=\"edge41\" class=\"edge\">\n<title>10&#45;&gt;5</title>\n<path fill=\"none\" stroke=\"#94e0e0\" stroke-width=\"2\" d=\"M525.74,-227.69C509.26,-295.59 480.35,-445.36 469.77,-517.25\"/>\n<polygon fill=\"#94e0e0\" stroke=\"#94e0e0\" stroke-width=\"2\" points=\"466.29,-516.88 468.34,-527.27 473.22,-517.87 466.29,-516.88\"/>\n</g>\n<!-- 10&#45;&gt;6 -->\n<g id=\"edge42\" class=\"edge\">\n<title>10&#45;&gt;6</title>\n<path fill=\"none\" stroke=\"#94e0e0\" stroke-width=\"2\" d=\"M509.69,-168.15C470.53,-137.77 398.09,-87.18 354.67,-59.84\"/>\n<polygon fill=\"#94e0e0\" stroke=\"#94e0e0\" stroke-width=\"2\" points=\"356.48,-56.84 346.13,-54.54 352.78,-62.79 356.48,-56.84\"/>\n</g>\n<!-- 10&#45;&gt;7 -->\n<g id=\"edge43\" class=\"edge\">\n<title>10&#45;&gt;7</title>\n<path fill=\"none\" stroke=\"#94e0e0\" stroke-width=\"2\" d=\"M570.83,-178.86C613.76,-156.96 686.9,-114.89 728.89,-88.01\"/>\n<polygon fill=\"#94e0e0\" stroke=\"#94e0e0\" stroke-width=\"2\" points=\"730.88,-90.89 737.36,-82.51 727.07,-85.02 730.88,-90.89\"/>\n</g>\n<!-- 10&#45;&gt;8 -->\n<g id=\"edge44\" class=\"edge\">\n<title>10&#45;&gt;8</title>\n<path fill=\"none\" stroke=\"#94e0e0\" stroke-width=\"2\" d=\"M500.45,-197.33C453.88,-206.98 373.41,-227.9 325.55,-242.72\"/>\n<polygon fill=\"#94e0e0\" stroke=\"#94e0e0\" stroke-width=\"2\" points=\"324.34,-239.44 315.86,-245.79 326.45,-246.11 324.34,-239.44\"/>\n</g>\n<!-- 10&#45;&gt;8 -->\n<g id=\"edge45\" class=\"edge\">\n<title>10&#45;&gt;8</title>\n<path fill=\"none\" stroke=\"#94e0e0\" stroke-width=\"2\" d=\"M502.91,-206.73C457.56,-221.08 377.14,-242.17 328.14,-252.63\"/>\n<polygon fill=\"#94e0e0\" stroke=\"#94e0e0\" stroke-width=\"2\" points=\"327.27,-249.24 318.18,-254.7 328.69,-256.09 327.27,-249.24\"/>\n</g>\n<!-- 10&#45;&gt;9 -->\n<g id=\"edge46\" class=\"edge\">\n<title>10&#45;&gt;9</title>\n<path fill=\"none\" stroke=\"#94e0e0\" stroke-width=\"2\" d=\"M506.46,-213.27C464.95,-246.2 391.08,-311 350.54,-349.94\"/>\n<polygon fill=\"#94e0e0\" stroke=\"#94e0e0\" stroke-width=\"2\" points=\"347.87,-347.65 343.13,-357.13 352.74,-352.67 347.87,-347.65\"/>\n</g>\n<!-- 10&#45;&gt;9 -->\n<g id=\"edge47\" class=\"edge\">\n<title>10&#45;&gt;9</title>\n<path fill=\"none\" stroke=\"#94e0e0\" stroke-width=\"2\" d=\"M512.63,-220.29C474.65,-257.23 400.9,-322.17 357.08,-357.39\"/>\n<polygon fill=\"#94e0e0\" stroke=\"#94e0e0\" stroke-width=\"2\" points=\"354.65,-354.85 349,-363.81 359.01,-360.33 354.65,-354.85\"/>\n</g>\n<!-- 10&#45;&gt;11 -->\n<g id=\"edge48\" class=\"edge\">\n<title>10&#45;&gt;11</title>\n<path fill=\"none\" stroke=\"#94e0e0\" stroke-width=\"2\" d=\"M527.03,-228.05C528.27,-242.48 532.05,-259.15 537.24,-273.67\"/>\n<polygon fill=\"#94e0e0\" stroke=\"#94e0e0\" stroke-width=\"2\" points=\"534.13,-275.32 541.05,-283.33 540.64,-272.75 534.13,-275.32\"/>\n</g>\n<!-- 10&#45;&gt;11 -->\n<g id=\"edge49\" class=\"edge\">\n<title>10&#45;&gt;11</title>\n<path fill=\"none\" stroke=\"#94e0e0\" stroke-width=\"2\" d=\"M562.05,-219.14C567.86,-232.42 572.5,-248.86 574.87,-264.11\"/>\n<polygon fill=\"#94e0e0\" stroke=\"#94e0e0\" stroke-width=\"2\" points=\"571.45,-264.91 576.14,-274.41 578.4,-264.06 571.45,-264.91\"/>\n</g>\n<!-- 11&#45;&gt;1 -->\n<g id=\"edge50\" class=\"edge\">\n<title>11&#45;&gt;1</title>\n<path fill=\"none\" stroke=\"#94e0e0\" stroke-width=\"2\" d=\"M560.71,-346.1C555.05,-381.87 546.42,-436.37 540.59,-473.24\"/>\n<polygon fill=\"#94e0e0\" stroke=\"#94e0e0\" stroke-width=\"2\" points=\"537.13,-472.72 539.02,-483.15 544.04,-473.82 537.13,-472.72\"/>\n</g>\n<!-- 11&#45;&gt;4 -->\n<g id=\"edge51\" class=\"edge\">\n<title>11&#45;&gt;4</title>\n<path fill=\"none\" stroke=\"#94e0e0\" stroke-width=\"2\" d=\"M602.44,-315.53C650.65,-319.21 735.93,-321.39 786.11,-320.28\"/>\n<polygon fill=\"#94e0e0\" stroke=\"#94e0e0\" stroke-width=\"2\" points=\"786.36,-323.78 796.26,-320 786.16,-316.78 786.36,-323.78\"/>\n</g>\n<!-- 11&#45;&gt;5 -->\n<g id=\"edge52\" class=\"edge\">\n<title>11&#45;&gt;5</title>\n<path fill=\"none\" stroke=\"#94e0e0\" stroke-width=\"2\" d=\"M548.42,-341.63C527.39,-386.93 493.86,-469.82 476.78,-518.6\"/>\n<polygon fill=\"#94e0e0\" stroke=\"#94e0e0\" stroke-width=\"2\" points=\"473.43,-517.58 473.49,-528.17 480.05,-519.85 473.43,-517.58\"/>\n</g>\n<!-- 11&#45;&gt;6 -->\n<g id=\"edge53\" class=\"edge\">\n<title>11&#45;&gt;6</title>\n<path fill=\"none\" stroke=\"#94e0e0\" stroke-width=\"2\" d=\"M544.97,-280.18C500.9,-227.47 400.59,-118.41 349.77,-67.87\"/>\n<polygon fill=\"#94e0e0\" stroke=\"#94e0e0\" stroke-width=\"2\" points=\"351.93,-65.08 342.35,-60.56 347.02,-70.07 351.93,-65.08\"/>\n</g>\n<!-- 11&#45;&gt;7 -->\n<g id=\"edge54\" class=\"edge\">\n<title>11&#45;&gt;7</title>\n<path fill=\"none\" stroke=\"#94e0e0\" stroke-width=\"2\" d=\"M592.71,-283.88C631.76,-239.18 704.1,-147.77 739.94,-97.9\"/>\n<polygon fill=\"#94e0e0\" stroke=\"#94e0e0\" stroke-width=\"2\" points=\"742.85,-99.86 745.79,-89.68 737.14,-95.8 742.85,-99.86\"/>\n</g>\n<!-- 11&#45;&gt;8 -->\n<g id=\"edge55\" class=\"edge\">\n<title>11&#45;&gt;8</title>\n<path fill=\"none\" stroke=\"#94e0e0\" stroke-width=\"2\" d=\"M531.57,-298.59C480.12,-286.41 384.06,-268.62 328.72,-260.94\"/>\n<polygon fill=\"#94e0e0\" stroke=\"#94e0e0\" stroke-width=\"2\" points=\"328.92,-257.44 318.55,-259.59 328,-264.38 328.92,-257.44\"/>\n</g>\n<!-- 11&#45;&gt;8 -->\n<g id=\"edge56\" class=\"edge\">\n<title>11&#45;&gt;8</title>\n<path fill=\"none\" stroke=\"#94e0e0\" stroke-width=\"2\" d=\"M529.87,-307.82C477.46,-300.86 381.36,-283.24 326.92,-270.69\"/>\n<polygon fill=\"#94e0e0\" stroke=\"#94e0e0\" stroke-width=\"2\" points=\"327.48,-267.22 316.94,-268.33 325.87,-274.04 327.48,-267.22\"/>\n</g>\n<!-- 11&#45;&gt;9 -->\n<g id=\"edge57\" class=\"edge\">\n<title>11&#45;&gt;9</title>\n<path fill=\"none\" stroke=\"#94e0e0\" stroke-width=\"2\" d=\"M530.32,-315.31C484.87,-326.16 407.16,-348.89 360.6,-364.88\"/>\n<polygon fill=\"#94e0e0\" stroke=\"#94e0e0\" stroke-width=\"2\" points=\"359.44,-361.58 351.16,-368.18 361.75,-368.18 359.44,-361.58\"/>\n</g>\n<!-- 11&#45;&gt;9 -->\n<g id=\"edge58\" class=\"edge\">\n<title>11&#45;&gt;9</title>\n<path fill=\"none\" stroke=\"#94e0e0\" stroke-width=\"2\" d=\"M533.08,-324.69C488.97,-340.13 411.31,-363.03 363.5,-374.76\"/>\n<polygon fill=\"#94e0e0\" stroke=\"#94e0e0\" stroke-width=\"2\" points=\"362.68,-371.36 353.77,-377.09 364.31,-378.16 362.68,-371.36\"/>\n</g>\n<!-- 11&#45;&gt;10 -->\n<g id=\"edge59\" class=\"edge\">\n<title>11&#45;&gt;10</title>\n<path fill=\"none\" stroke=\"#94e0e0\" stroke-width=\"2\" d=\"M563.66,-273.49C561.19,-261.57 557.91,-248.2 554.44,-235.83\"/>\n<polygon fill=\"#94e0e0\" stroke=\"#94e0e0\" stroke-width=\"2\" points=\"557.78,-234.8 551.63,-226.17 551.06,-236.75 557.78,-234.8\"/>\n</g>\n<!-- 11&#45;&gt;10 -->\n<g id=\"edge60\" class=\"edge\">\n<title>11&#45;&gt;10</title>\n<path fill=\"none\" stroke=\"#94e0e0\" stroke-width=\"2\" d=\"M551.58,-276.57C548.05,-264.91 544.55,-251.6 541.69,-239.07\"/>\n<polygon fill=\"#94e0e0\" stroke=\"#94e0e0\" stroke-width=\"2\" points=\"545.1,-238.27 539.55,-229.24 538.26,-239.76 545.1,-238.27\"/>\n</g>\n</g>\n</svg>\n",
            "text/plain": [
              "<graphviz.graphs.Digraph at 0x7e37e56bca30>"
            ]
          },
          "metadata": {},
          "execution_count": 23
        }
      ]
    },
    {
      "cell_type": "markdown",
      "source": [
        "# Original Data and Structures\n",
        "\n",
        "We can obtain the original data from the online database by using the OQMD API."
      ],
      "metadata": {
        "id": "yIENaPPnMQgq"
      }
    },
    {
      "cell_type": "code",
      "source": [
        "import json, requests\n",
        "\n",
        "def get_oqmd_entry(entry_id):\n",
        "  base_url = 'http://oqmd.org/oqmdapi/entry'\n",
        "  url = f'{base_url}/{entry_id}'\n",
        "\n",
        "  response = requests.get(url)\n",
        "  if response.status_code != 200:\n",
        "    print('Status code:', response.status_code)\n",
        "  else:\n",
        "    response = json.loads(response.text)\n",
        "    return response"
      ],
      "metadata": {
        "id": "JEEG59Babtrx"
      },
      "execution_count": 24,
      "outputs": []
    },
    {
      "cell_type": "code",
      "source": [
        "entry_id = int(oqmd_id.split('-')[1])\n",
        "get_oqmd_entry(entry_id)"
      ],
      "metadata": {
        "colab": {
          "base_uri": "https://localhost:8080/"
        },
        "id": "ijcsX7IdcQ0q",
        "outputId": "ab0f3e40-772d-45ca-c24d-d4c2a0a4fe8e"
      },
      "execution_count": 25,
      "outputs": [
        {
          "output_type": "execute_result",
          "data": {
            "text/plain": [
              "{'id': 3278,\n",
              " 'name': 'ZrO2',\n",
              " 'path': '/home/oqmd/libraries/icsd/15983',\n",
              " 'icsd_id': '15983',\n",
              " 'composition': 'O2 Zr1',\n",
              " 'composition_generic': 'AB2',\n",
              " 'prototype': 'ZrO2(mP)',\n",
              " 'spacegroup': None,\n",
              " 'volume': None,\n",
              " 'ntypes': 2,\n",
              " 'natoms': 12,\n",
              " 'unit_cell': None,\n",
              " 'sites': None,\n",
              " 'energy_per_atom': -9.49757019,\n",
              " 'band_gap': 3.843,\n",
              " 'formation_energy': -3.63298243058584,\n",
              " 'stability': -0.4717609644791705,\n",
              " 'keywords': ['icsd'],\n",
              " 'holds': [],\n",
              " 'calculations': [{'id': 37919,\n",
              "   'path': '/home/oqmd/libraries/icsd/15983/standard',\n",
              "   'label': 'standard'},\n",
              "  {'id': 801995,\n",
              "   'path': '/home/oqmd/libraries/icsd/15983/static',\n",
              "   'label': 'static'},\n",
              "  {'id': 1988392,\n",
              "   'path': '/home/oqmd/libraries/icsd/15983/relaxation_lda',\n",
              "   'label': 'relaxation_lda'},\n",
              "  {'id': 1997902,\n",
              "   'path': '/home/oqmd/libraries/icsd/15983/static_lda',\n",
              "   'label': 'static_lda'}]}"
            ]
          },
          "metadata": {},
          "execution_count": 25
        }
      ]
    },
    {
      "cell_type": "markdown",
      "source": [],
      "metadata": {
        "id": "_u1Je2I4XwvA"
      }
    },
    {
      "cell_type": "code",
      "source": [
        "get_oqmd_entry(entry_id=344596)"
      ],
      "metadata": {
        "colab": {
          "base_uri": "https://localhost:8080/"
        },
        "id": "yYVLXPsxduKp",
        "outputId": "5776a55f-49c4-4dbe-c255-a59bfdbf5bbc"
      },
      "execution_count": 26,
      "outputs": [
        {
          "output_type": "execute_result",
          "data": {
            "text/plain": [
              "{'id': 344596,\n",
              " 'name': 'Ge3O',\n",
              " 'path': '/home/oqmd/libraries/prototypes/binaries/L1_2/O_Ge',\n",
              " 'icsd_id': None,\n",
              " 'composition': 'Ge3 O1',\n",
              " 'composition_generic': 'AB3',\n",
              " 'prototype': 'L1_2_Cu3Au',\n",
              " 'spacegroup': 'Pm-3m',\n",
              " 'volume': 81.0787,\n",
              " 'ntypes': 2,\n",
              " 'natoms': 4,\n",
              " 'unit_cell': [[4.32815, 0.0, 0.0], [0.0, 4.32815, 0.0], [0.0, 0.0, 4.32815]],\n",
              " 'sites': ['Ge @ 0 0.5 0.5', 'Ge @ 0.5 0 0.5', 'Ge @ 0.5 0.5 0', 'O @ 0 0 0'],\n",
              " 'energy_per_atom': -4.382843515,\n",
              " 'band_gap': 0.0,\n",
              " 'formation_energy': 0.21574978978031,\n",
              " 'stability': 0.9247098084374985,\n",
              " 'keywords': ['prototype', 'L1_2'],\n",
              " 'holds': [],\n",
              " 'calculations': [{'id': 352471,\n",
              "   'path': '/home/oqmd/libraries/prototypes/binaries/L1_2/O_Ge/initialize',\n",
              "   'label': 'initialize'},\n",
              "  {'id': 352472,\n",
              "   'path': '/home/oqmd/libraries/prototypes/binaries/L1_2/O_Ge/coarse_relax',\n",
              "   'label': 'coarse_relax'},\n",
              "  {'id': 352473,\n",
              "   'path': '/home/oqmd/libraries/prototypes/binaries/L1_2/O_Ge/fine_relax',\n",
              "   'label': 'fine_relax'},\n",
              "  {'id': 352474,\n",
              "   'path': '/home/oqmd/libraries/prototypes/binaries/L1_2/O_Ge/standard',\n",
              "   'label': 'standard'},\n",
              "  {'id': 1253775,\n",
              "   'path': '/home/oqmd/libraries/prototypes/binaries/L1_2/O_Ge/static',\n",
              "   'label': 'static'},\n",
              "  {'id': 1253776,\n",
              "   'path': '/home/oqmd/libraries/prototypes/binaries/L1_2/O_Ge/relaxation',\n",
              "   'label': 'relaxation'}]}"
            ]
          },
          "metadata": {},
          "execution_count": 26
        }
      ]
    },
    {
      "cell_type": "markdown",
      "source": [],
      "metadata": {
        "id": "m-H3PxdljCjA"
      }
    },
    {
      "cell_type": "code",
      "source": [
        "import json, requests\n",
        "\n",
        "base_url = 'http://oqmd.org/optimade/structures'\n",
        "url = f'{base_url}?filter=chemical_formula_descriptive=\"{formula0}\"'\n",
        "# If you want to know details of \"chemical_formula_descriptive\", see the link below:\n",
        "# https://github.com/Materials-Consortia/OPTIMADE/blob/v1.0/optimade.rst#id65\n",
        "\n",
        "response = requests.get(url)\n",
        "if response.status_code != 200:\n",
        "  print('Status code:', response.status_code)\n",
        "  print('You can see its meaning at https://developer.mozilla.org/en-US/docs/Web/HTTP/Status')\n",
        "else:\n",
        "  response = json.loads(response.text)\n",
        "  if 'detail' in response.keys():\n",
        "    print(response['detail'])\n",
        "  else:\n",
        "    print('Meta data:')\n",
        "    display(response['meta'])"
      ],
      "metadata": {
        "colab": {
          "base_uri": "https://localhost:8080/",
          "height": 289
        },
        "id": "VbP9tv9HY5AK",
        "outputId": "682d8c79-1ee8-4487-c66d-1f71420d79cb"
      },
      "execution_count": 27,
      "outputs": [
        {
          "output_type": "stream",
          "name": "stdout",
          "text": [
            "Meta data:\n"
          ]
        },
        {
          "output_type": "display_data",
          "data": {
            "text/plain": [
              "{'query': {'representation': 'http://oqmd.org/optimade/structures?filter=chemical_formula_descriptive=%22ZrO2%22',\n",
              "  '_oqmd_final_query': \"( composition__formula__in=['O2 Zr1'] )\"},\n",
              " 'api_version': '1.0.0',\n",
              " 'time_stamp': '2024-11-24 23:53:22',\n",
              " '_oqmd_data_in_response': 42,\n",
              " 'data_returned': 42,\n",
              " 'data_available': 1226781,\n",
              " 'more_data_available': False,\n",
              " 'provider': {'name': 'OQMD',\n",
              "  'description': 'The Open Quantum Materials Database',\n",
              "  'prefix': 'oqmd',\n",
              "  'homepage': 'http://oqmd.org'},\n",
              " 'warnings': [],\n",
              " 'response_message': 'OK'}"
            ]
          },
          "metadata": {}
        }
      ]
    },
    {
      "cell_type": "code",
      "source": [
        "response['data'][0].keys()"
      ],
      "metadata": {
        "colab": {
          "base_uri": "https://localhost:8080/"
        },
        "id": "OzhR1vKvfhxH",
        "outputId": "c20d8d22-eba2-40ea-abf9-5191a39fe682"
      },
      "execution_count": 28,
      "outputs": [
        {
          "output_type": "execute_result",
          "data": {
            "text/plain": [
              "dict_keys(['id', 'type', 'attributes'])"
            ]
          },
          "metadata": {},
          "execution_count": 28
        }
      ]
    },
    {
      "cell_type": "markdown",
      "source": [
        "We retrieve the structure with the wanted entry id from the database response."
      ],
      "metadata": {
        "id": "EpfVTAZBmQxq"
      }
    },
    {
      "cell_type": "code",
      "source": [
        "entry_structure = None\n",
        "for x in response['data']:\n",
        "  x = x['attributes']\n",
        "  if x['_oqmd_entry_id'] == entry_id:\n",
        "    entry_structure = x\n",
        "    break\n",
        "\n",
        "if entry_structure == None:\n",
        "  print(f'No structure for the entry {entry_id}')"
      ],
      "metadata": {
        "id": "ZnqhcmOCcRLP"
      },
      "execution_count": 29,
      "outputs": []
    },
    {
      "cell_type": "code",
      "source": [
        "entry_structure"
      ],
      "metadata": {
        "colab": {
          "base_uri": "https://localhost:8080/"
        },
        "id": "tvvugb4okwjz",
        "outputId": "72fb326a-6e9b-47c5-8561-655fcb5f8f26"
      },
      "execution_count": 30,
      "outputs": [
        {
          "output_type": "execute_result",
          "data": {
            "text/plain": [
              "{'last_modified': None,\n",
              " 'chemical_formula_reduced': 'O2Zr',\n",
              " 'chemical_formula_anonymous': 'A2B',\n",
              " 'nelements': 2,\n",
              " 'elements': ['O', 'Zr'],\n",
              " 'nsites': 12,\n",
              " 'lattice_vectors': [[5.18462, 0.0, 0.008175],\n",
              "  [0.0, 5.211486, 0.0],\n",
              "  [0.890761, 0.0, 5.315677]],\n",
              " 'species_at_sites': ['O',\n",
              "  'O',\n",
              "  'O',\n",
              "  'O',\n",
              "  'O',\n",
              "  'O',\n",
              "  'O',\n",
              "  'O',\n",
              "  'Zr',\n",
              "  'Zr',\n",
              "  'Zr',\n",
              "  'Zr'],\n",
              " 'nperiodic_dimensions': 3,\n",
              " 'structure_features': [],\n",
              " 'chemical_formula_descriptive': 'O2Zr',\n",
              " 'cartesian_site_positions': [[2.36194, 1.27627, 0.13447],\n",
              "  [0.42102, 3.5834, 0.73934],\n",
              "  [5.20898, 0.97766, 1.92667],\n",
              "  [3.26807, 3.88201, 2.53154],\n",
              "  [2.80732, 1.32948, 2.79231],\n",
              "  [0.8664, 4.23383, 3.39718],\n",
              "  [5.65436, 1.62809, 4.58451],\n",
              "  [3.71345, 3.93522, 5.18937],\n",
              "  [3.94249, 2.38202, 1.13006],\n",
              "  [1.68751, 4.98776, 1.53595],\n",
              "  [4.38787, 0.22372, 3.7879],\n",
              "  [2.13289, 2.82946, 4.19379]],\n",
              " '_oqmd_entry_id': 3278,\n",
              " '_oqmd_calculation_id': 801995,\n",
              " '_oqmd_icsd_id': 15983,\n",
              " '_oqmd_band_gap': 3.843,\n",
              " '_oqmd_delta_e': -3.633,\n",
              " '_oqmd_volume': 143.589,\n",
              " '_oqmd_stability': 0.0,\n",
              " '_oqmd_prototype': 'ZrO2(mP)',\n",
              " '_oqmd_spacegroup': 'P21/c'}"
            ]
          },
          "metadata": {},
          "execution_count": 30
        }
      ]
    },
    {
      "cell_type": "markdown",
      "source": [
        "\n"
      ],
      "metadata": {
        "id": "GmkhZ6gumrMO"
      }
    },
    {
      "cell_type": "code",
      "source": [
        "n = entry_structure['nsites']\n",
        "print(n)\n",
        "print(f'{formula0} {oqmd_id} in XYZ format')\n",
        "for i in range(n):\n",
        "  s = entry_structure['species_at_sites'][i]\n",
        "  x, y, z = entry_structure['cartesian_site_positions'][i]\n",
        "  print(f'{s:2s} {x:10.6f} {y:10.6f} {z:10.6f}')"
      ],
      "metadata": {
        "colab": {
          "base_uri": "https://localhost:8080/"
        },
        "id": "v7muO371kenS",
        "outputId": "a945c50d-662b-4186-9002-18f17786c822"
      },
      "execution_count": 31,
      "outputs": [
        {
          "output_type": "stream",
          "name": "stdout",
          "text": [
            "12\n",
            "ZrO2 oqmd-3278 in XYZ format\n",
            "O    2.361940   1.276270   0.134470\n",
            "O    0.421020   3.583400   0.739340\n",
            "O    5.208980   0.977660   1.926670\n",
            "O    3.268070   3.882010   2.531540\n",
            "O    2.807320   1.329480   2.792310\n",
            "O    0.866400   4.233830   3.397180\n",
            "O    5.654360   1.628090   4.584510\n",
            "O    3.713450   3.935220   5.189370\n",
            "Zr   3.942490   2.382020   1.130060\n",
            "Zr   1.687510   4.987760   1.535950\n",
            "Zr   4.387870   0.223720   3.787900\n",
            "Zr   2.132890   2.829460   4.193790\n"
          ]
        }
      ]
    },
    {
      "cell_type": "code",
      "source": [
        "for i in range(3):\n",
        "  x, y, z = entry_structure['lattice_vectors'][i]\n",
        "  print(f'{x:10.6f} {y:10.6f} {z:10.6f}')"
      ],
      "metadata": {
        "colab": {
          "base_uri": "https://localhost:8080/"
        },
        "id": "UyfwKwO5qi-D",
        "outputId": "da2c076a-77e2-4927-b8ca-eeff8a179a5d"
      },
      "execution_count": 32,
      "outputs": [
        {
          "output_type": "stream",
          "name": "stdout",
          "text": [
            "  5.184620   0.000000   0.008175\n",
            "  0.000000   5.211486   0.000000\n",
            "  0.890761   0.000000   5.315677\n"
          ]
        }
      ]
    },
    {
      "cell_type": "markdown",
      "source": [
        "# Gallery"
      ],
      "metadata": {
        "id": "4hRWtYsdtqDY"
      }
    },
    {
      "cell_type": "markdown",
      "source": [],
      "metadata": {
        "id": "7npeYN_zOq6A"
      }
    },
    {
      "cell_type": "code",
      "source": [
        "import cv2\n",
        "import numpy as np\n",
        "\n",
        "def square_image(data):\n",
        "  img_buf= np.frombuffer(data, dtype=np.uint8)\n",
        "  img = cv2.imdecode(img_buf, cv2.IMREAD_UNCHANGED)\n",
        "  bgc = img[0,0,:]\n",
        "  height, width, _ = img.shape\n",
        "  if height > width:\n",
        "    new_img = np.full(shape=(height, height, len(bgc)), fill_value=bgc, dtype=np.uint8)\n",
        "    shift = int(float(height-width)/2)\n",
        "    new_img[:,shift:shift+width,:] = img\n",
        "  else:\n",
        "    new_img = np.full(shape=(width, width, len(bgc)), fill_value=bgc, dtype=np.uint8)\n",
        "    shift = int(float(width-height)/2)\n",
        "    new_img[shift:shift+height,:,:] = img\n",
        "  return cv2.imencode('.png', new_img)[1].tobytes()"
      ],
      "metadata": {
        "id": "M4h5eRt1xt4U"
      },
      "execution_count": 33,
      "outputs": []
    },
    {
      "cell_type": "code",
      "source": [
        "def gen_graph_image(oqmd_id, size=4, bgcolor='white'):\n",
        "  nodes, neighbors = graphs[oqmd_id]\n",
        "\n",
        "  dot = graphviz.Digraph(f'{oqmd_id}', comment=f'{oqmd_id}', engine='neato')\n",
        "  dot.attr(overlap='false', size=f'{size}', bgcolor=bgcolor)\n",
        "\n",
        "  dot.attr('node', shape='circle', style='filled')\n",
        "  for i, element_id in enumerate(nodes):\n",
        "    z = config[\"atomic_numbers\"][element_id]\n",
        "    e = element[z]\n",
        "    dot.node(f'{i}', f'{e.symbol}', color=e.jmol_color)\n",
        "\n",
        "  dot.attr('edge', constraint='false', penwidth='2')\n",
        "  for i, element_id in enumerate(nodes):\n",
        "    z = config[\"atomic_numbers\"][element_id]\n",
        "    e = element[z]\n",
        "    for j in neighbors[i]:\n",
        "      dot.edge(f'{i}', f'{j}', color=e.jmol_color)\n",
        "\n",
        "  return square_image(dot.pipe(format='png'))"
      ],
      "metadata": {
        "id": "zUdWW6gJw2nX"
      },
      "execution_count": 34,
      "outputs": []
    },
    {
      "cell_type": "code",
      "source": [
        "from ipywidgets import HBox, VBox, Image, HTML\n",
        "\n",
        "def gen_boxes(formula, length=100, max_num_boxes=5, bgcolor='white'):\n",
        "  oqmd_ids = get_subset(formula=formula)[\"name\"].tolist()\n",
        "\n",
        "  boxes = []\n",
        "  for x in oqmd_ids[:max_num_boxes]:\n",
        "    image = gen_graph_image(oqmd_id=x, size=4*length/100, bgcolor=bgcolor)\n",
        "    box = Image(\n",
        "      value=image,\n",
        "      format='png',\n",
        "      width=length,\n",
        "      height=length,\n",
        "    )\n",
        "    h = HTML(value=x)\n",
        "    vb = VBox([h, box])\n",
        "    vb.layout.align_items = 'center'\n",
        "    vb.layout.border = '1px solid gray'\n",
        "    boxes.append(vb)\n",
        "  return boxes"
      ],
      "metadata": {
        "id": "PJhobwGa118r"
      },
      "execution_count": 35,
      "outputs": []
    },
    {
      "cell_type": "code",
      "source": [
        "def show_table_and_graphs(formula):\n",
        "  display(get_subset(formula))\n",
        "  hb = HBox(gen_boxes(formula, length=300))\n",
        "  display(hb)"
      ],
      "metadata": {
        "id": "nPtvoN7IuLn7"
      },
      "execution_count": 36,
      "outputs": []
    },
    {
      "cell_type": "code",
      "source": [
        "show_table_and_graphs(formula='BaTiO3')"
      ],
      "metadata": {
        "colab": {
          "base_uri": "https://localhost:8080/",
          "height": 978,
          "referenced_widgets": [
            "84c8b5bf52f742aba68e0315b7c97fae",
            "a973cf40ef9f4c68b1fd9a1e6b39ef8b",
            "f17dcc9194284d9a91cbef65d4fd5b6a",
            "e665584eb5b54812948104b0f214a25d",
            "4cc25592d6c143e696ef495253b40642",
            "37e14ebcba46413c89b40ab04557a49a",
            "efdc208e2bd14c1f8f40fb46019c033b",
            "d0e73c3ff6eb48d6a33148f6235f8920",
            "5a32b1f872dd4535b385831416791660",
            "b8fc62788dc544f8963a3967c1eafc9a",
            "8f51930ca4984a8e9b8a85a4e217b490",
            "eda2679160334491a5b63f8c032eb03a",
            "c31bc93f488644e5ae111920708356cc",
            "3efeb769682b41b0872b9f037bf7c539",
            "70d1504badd0456ca8b8f3c15c6a5627",
            "5807805c727242048772e9602c46aaf3",
            "7d928e6c37fb4f8cb2304ede6cdb24d6",
            "e1f5b5fb85654d55b2f4353a41ea736d",
            "57007359fd814144b7eb3ab74bef61e7",
            "252a05bfbedf467d941a46c4bdd34507",
            "949a2d321539450998119773301bc1a9",
            "a543a5b35e784b6981ef45c6117c67cd",
            "a22413be32d04d8082ad21d1bdbb843d",
            "359c6546d16c415095018cd820b9b5a0",
            "38cabc619a01472788f1966dbbd56101",
            "64dd831698d14473809eca5a119ddb15",
            "8af41fb1320b4a4b8419744350a05d5d",
            "12940594209d465da6aeb2f67c24e796",
            "cbd3e61124394982808641c82b94e601",
            "7ecfb13c09f840ad965df34ebd7e88c4",
            "7c5f22745977498a832f89a95bd42705",
            "e95fd7920690421dbacda05dd81e0d0d",
            "bd3db43ac45a4b25959a79d3c0ac4f65",
            "20554a6c7d844178bb21f337c5e91708",
            "b5ce2c898fed4edfb597fd07406a262d",
            "2656cad9e77b4053b464abdebb4bbf1e",
            "711a72c259a64725a568c6c0452f78e8"
          ]
        },
        "id": "R6rFB0VqBog4",
        "outputId": "aa8815ae-04e3-429c-9a97-37f993ff3d88"
      },
      "execution_count": 37,
      "outputs": [
        {
          "output_type": "display_data",
          "data": {
            "text/plain": [
              "               name formula  spacegroup  nelements  nsites  energy_per_atom  \\\n",
              "507954   oqmd-13238  BaTiO3          99          3       5        -7.925843   \n",
              "420797    oqmd-6455  BaTiO3         194          3      30        -7.925424   \n",
              "93642   oqmd-681890  BaTiO3         221          3       5        -7.919548   \n",
              "10967   oqmd-825487  BaTiO3         221          3       5        -7.919336   \n",
              "139171  oqmd-678653  BaTiO3         148          3      10        -7.814859   \n",
              "496647  oqmd-681891  BaTiO3          62          3      20        -7.790627   \n",
              "60783   oqmd-827155  BaTiO3         167          3      10        -7.487518   \n",
              "233733  oqmd-103739  BaTiO3          38          3       5        -7.165238   \n",
              "11217    oqmd-97435  BaTiO3          38          3       5        -7.158258   \n",
              "172717  oqmd-680271  BaTiO3          99          3       5        -6.612654   \n",
              "141407   oqmd-92710  BaTiO3         123          3       5        -6.149601   \n",
              "44277    oqmd-40649  BaTiO3         221          3       5        -4.921756   \n",
              "\n",
              "        formation_energy_per_atom  band_gap  volume_per_atom  \\\n",
              "507954                  -3.287548     1.680        13.029152   \n",
              "420797                  -3.287129     1.773        13.259104   \n",
              "93642                   -3.281254     1.769        12.864987   \n",
              "10967                   -3.281042     1.700        12.857922   \n",
              "139171                  -3.176565     3.336        14.417415   \n",
              "496647                  -3.152333     2.986        17.499136   \n",
              "60783                   -2.849224     2.402        18.775167   \n",
              "233733                  -2.526943     0.000        19.445630   \n",
              "11217                   -2.519964     0.000        19.238438   \n",
              "172717                  -1.974360     0.000        14.755117   \n",
              "141407                  -1.511307     0.000        16.351564   \n",
              "44277                   -0.283462     0.000        19.215641   \n",
              "\n",
              "        magnetization_per_atom  atomic_volume_per_atom  volume_deviation  \n",
              "507954                0.000025               18.412103         -0.413147  \n",
              "420797                0.000317               18.412103         -0.388639  \n",
              "93642                 0.000044               18.412103         -0.431179  \n",
              "10967                 0.000015               18.412103         -0.431966  \n",
              "139171                0.000073               18.412103         -0.277074  \n",
              "496647                0.000099               18.412103         -0.052172  \n",
              "60783                 0.000051               18.412103          0.019337  \n",
              "233733                0.000705               18.412103          0.053150  \n",
              "11217                 0.006398               18.412103          0.042952  \n",
              "172717                0.005681               18.412103         -0.247845  \n",
              "141407                0.107822               18.412103         -0.126015  \n",
              "44277                 0.017302               18.412103          0.041817  "
            ],
            "text/html": [
              "\n",
              "  <div id=\"df-00341b14-2bf2-4b71-943f-5659d5943c69\" class=\"colab-df-container\">\n",
              "    <div>\n",
              "<style scoped>\n",
              "    .dataframe tbody tr th:only-of-type {\n",
              "        vertical-align: middle;\n",
              "    }\n",
              "\n",
              "    .dataframe tbody tr th {\n",
              "        vertical-align: top;\n",
              "    }\n",
              "\n",
              "    .dataframe thead th {\n",
              "        text-align: right;\n",
              "    }\n",
              "</style>\n",
              "<table border=\"1\" class=\"dataframe\">\n",
              "  <thead>\n",
              "    <tr style=\"text-align: right;\">\n",
              "      <th></th>\n",
              "      <th>name</th>\n",
              "      <th>formula</th>\n",
              "      <th>spacegroup</th>\n",
              "      <th>nelements</th>\n",
              "      <th>nsites</th>\n",
              "      <th>energy_per_atom</th>\n",
              "      <th>formation_energy_per_atom</th>\n",
              "      <th>band_gap</th>\n",
              "      <th>volume_per_atom</th>\n",
              "      <th>magnetization_per_atom</th>\n",
              "      <th>atomic_volume_per_atom</th>\n",
              "      <th>volume_deviation</th>\n",
              "    </tr>\n",
              "  </thead>\n",
              "  <tbody>\n",
              "    <tr>\n",
              "      <th>507954</th>\n",
              "      <td>oqmd-13238</td>\n",
              "      <td>BaTiO3</td>\n",
              "      <td>99</td>\n",
              "      <td>3</td>\n",
              "      <td>5</td>\n",
              "      <td>-7.925843</td>\n",
              "      <td>-3.287548</td>\n",
              "      <td>1.680</td>\n",
              "      <td>13.029152</td>\n",
              "      <td>0.000025</td>\n",
              "      <td>18.412103</td>\n",
              "      <td>-0.413147</td>\n",
              "    </tr>\n",
              "    <tr>\n",
              "      <th>420797</th>\n",
              "      <td>oqmd-6455</td>\n",
              "      <td>BaTiO3</td>\n",
              "      <td>194</td>\n",
              "      <td>3</td>\n",
              "      <td>30</td>\n",
              "      <td>-7.925424</td>\n",
              "      <td>-3.287129</td>\n",
              "      <td>1.773</td>\n",
              "      <td>13.259104</td>\n",
              "      <td>0.000317</td>\n",
              "      <td>18.412103</td>\n",
              "      <td>-0.388639</td>\n",
              "    </tr>\n",
              "    <tr>\n",
              "      <th>93642</th>\n",
              "      <td>oqmd-681890</td>\n",
              "      <td>BaTiO3</td>\n",
              "      <td>221</td>\n",
              "      <td>3</td>\n",
              "      <td>5</td>\n",
              "      <td>-7.919548</td>\n",
              "      <td>-3.281254</td>\n",
              "      <td>1.769</td>\n",
              "      <td>12.864987</td>\n",
              "      <td>0.000044</td>\n",
              "      <td>18.412103</td>\n",
              "      <td>-0.431179</td>\n",
              "    </tr>\n",
              "    <tr>\n",
              "      <th>10967</th>\n",
              "      <td>oqmd-825487</td>\n",
              "      <td>BaTiO3</td>\n",
              "      <td>221</td>\n",
              "      <td>3</td>\n",
              "      <td>5</td>\n",
              "      <td>-7.919336</td>\n",
              "      <td>-3.281042</td>\n",
              "      <td>1.700</td>\n",
              "      <td>12.857922</td>\n",
              "      <td>0.000015</td>\n",
              "      <td>18.412103</td>\n",
              "      <td>-0.431966</td>\n",
              "    </tr>\n",
              "    <tr>\n",
              "      <th>139171</th>\n",
              "      <td>oqmd-678653</td>\n",
              "      <td>BaTiO3</td>\n",
              "      <td>148</td>\n",
              "      <td>3</td>\n",
              "      <td>10</td>\n",
              "      <td>-7.814859</td>\n",
              "      <td>-3.176565</td>\n",
              "      <td>3.336</td>\n",
              "      <td>14.417415</td>\n",
              "      <td>0.000073</td>\n",
              "      <td>18.412103</td>\n",
              "      <td>-0.277074</td>\n",
              "    </tr>\n",
              "    <tr>\n",
              "      <th>496647</th>\n",
              "      <td>oqmd-681891</td>\n",
              "      <td>BaTiO3</td>\n",
              "      <td>62</td>\n",
              "      <td>3</td>\n",
              "      <td>20</td>\n",
              "      <td>-7.790627</td>\n",
              "      <td>-3.152333</td>\n",
              "      <td>2.986</td>\n",
              "      <td>17.499136</td>\n",
              "      <td>0.000099</td>\n",
              "      <td>18.412103</td>\n",
              "      <td>-0.052172</td>\n",
              "    </tr>\n",
              "    <tr>\n",
              "      <th>60783</th>\n",
              "      <td>oqmd-827155</td>\n",
              "      <td>BaTiO3</td>\n",
              "      <td>167</td>\n",
              "      <td>3</td>\n",
              "      <td>10</td>\n",
              "      <td>-7.487518</td>\n",
              "      <td>-2.849224</td>\n",
              "      <td>2.402</td>\n",
              "      <td>18.775167</td>\n",
              "      <td>0.000051</td>\n",
              "      <td>18.412103</td>\n",
              "      <td>0.019337</td>\n",
              "    </tr>\n",
              "    <tr>\n",
              "      <th>233733</th>\n",
              "      <td>oqmd-103739</td>\n",
              "      <td>BaTiO3</td>\n",
              "      <td>38</td>\n",
              "      <td>3</td>\n",
              "      <td>5</td>\n",
              "      <td>-7.165238</td>\n",
              "      <td>-2.526943</td>\n",
              "      <td>0.000</td>\n",
              "      <td>19.445630</td>\n",
              "      <td>0.000705</td>\n",
              "      <td>18.412103</td>\n",
              "      <td>0.053150</td>\n",
              "    </tr>\n",
              "    <tr>\n",
              "      <th>11217</th>\n",
              "      <td>oqmd-97435</td>\n",
              "      <td>BaTiO3</td>\n",
              "      <td>38</td>\n",
              "      <td>3</td>\n",
              "      <td>5</td>\n",
              "      <td>-7.158258</td>\n",
              "      <td>-2.519964</td>\n",
              "      <td>0.000</td>\n",
              "      <td>19.238438</td>\n",
              "      <td>0.006398</td>\n",
              "      <td>18.412103</td>\n",
              "      <td>0.042952</td>\n",
              "    </tr>\n",
              "    <tr>\n",
              "      <th>172717</th>\n",
              "      <td>oqmd-680271</td>\n",
              "      <td>BaTiO3</td>\n",
              "      <td>99</td>\n",
              "      <td>3</td>\n",
              "      <td>5</td>\n",
              "      <td>-6.612654</td>\n",
              "      <td>-1.974360</td>\n",
              "      <td>0.000</td>\n",
              "      <td>14.755117</td>\n",
              "      <td>0.005681</td>\n",
              "      <td>18.412103</td>\n",
              "      <td>-0.247845</td>\n",
              "    </tr>\n",
              "    <tr>\n",
              "      <th>141407</th>\n",
              "      <td>oqmd-92710</td>\n",
              "      <td>BaTiO3</td>\n",
              "      <td>123</td>\n",
              "      <td>3</td>\n",
              "      <td>5</td>\n",
              "      <td>-6.149601</td>\n",
              "      <td>-1.511307</td>\n",
              "      <td>0.000</td>\n",
              "      <td>16.351564</td>\n",
              "      <td>0.107822</td>\n",
              "      <td>18.412103</td>\n",
              "      <td>-0.126015</td>\n",
              "    </tr>\n",
              "    <tr>\n",
              "      <th>44277</th>\n",
              "      <td>oqmd-40649</td>\n",
              "      <td>BaTiO3</td>\n",
              "      <td>221</td>\n",
              "      <td>3</td>\n",
              "      <td>5</td>\n",
              "      <td>-4.921756</td>\n",
              "      <td>-0.283462</td>\n",
              "      <td>0.000</td>\n",
              "      <td>19.215641</td>\n",
              "      <td>0.017302</td>\n",
              "      <td>18.412103</td>\n",
              "      <td>0.041817</td>\n",
              "    </tr>\n",
              "  </tbody>\n",
              "</table>\n",
              "</div>\n",
              "    <div class=\"colab-df-buttons\">\n",
              "\n",
              "  <div class=\"colab-df-container\">\n",
              "    <button class=\"colab-df-convert\" onclick=\"convertToInteractive('df-00341b14-2bf2-4b71-943f-5659d5943c69')\"\n",
              "            title=\"Convert this dataframe to an interactive table.\"\n",
              "            style=\"display:none;\">\n",
              "\n",
              "  <svg xmlns=\"http://www.w3.org/2000/svg\" height=\"24px\" viewBox=\"0 -960 960 960\">\n",
              "    <path d=\"M120-120v-720h720v720H120Zm60-500h600v-160H180v160Zm220 220h160v-160H400v160Zm0 220h160v-160H400v160ZM180-400h160v-160H180v160Zm440 0h160v-160H620v160ZM180-180h160v-160H180v160Zm440 0h160v-160H620v160Z\"/>\n",
              "  </svg>\n",
              "    </button>\n",
              "\n",
              "  <style>\n",
              "    .colab-df-container {\n",
              "      display:flex;\n",
              "      gap: 12px;\n",
              "    }\n",
              "\n",
              "    .colab-df-convert {\n",
              "      background-color: #E8F0FE;\n",
              "      border: none;\n",
              "      border-radius: 50%;\n",
              "      cursor: pointer;\n",
              "      display: none;\n",
              "      fill: #1967D2;\n",
              "      height: 32px;\n",
              "      padding: 0 0 0 0;\n",
              "      width: 32px;\n",
              "    }\n",
              "\n",
              "    .colab-df-convert:hover {\n",
              "      background-color: #E2EBFA;\n",
              "      box-shadow: 0px 1px 2px rgba(60, 64, 67, 0.3), 0px 1px 3px 1px rgba(60, 64, 67, 0.15);\n",
              "      fill: #174EA6;\n",
              "    }\n",
              "\n",
              "    .colab-df-buttons div {\n",
              "      margin-bottom: 4px;\n",
              "    }\n",
              "\n",
              "    [theme=dark] .colab-df-convert {\n",
              "      background-color: #3B4455;\n",
              "      fill: #D2E3FC;\n",
              "    }\n",
              "\n",
              "    [theme=dark] .colab-df-convert:hover {\n",
              "      background-color: #434B5C;\n",
              "      box-shadow: 0px 1px 3px 1px rgba(0, 0, 0, 0.15);\n",
              "      filter: drop-shadow(0px 1px 2px rgba(0, 0, 0, 0.3));\n",
              "      fill: #FFFFFF;\n",
              "    }\n",
              "  </style>\n",
              "\n",
              "    <script>\n",
              "      const buttonEl =\n",
              "        document.querySelector('#df-00341b14-2bf2-4b71-943f-5659d5943c69 button.colab-df-convert');\n",
              "      buttonEl.style.display =\n",
              "        google.colab.kernel.accessAllowed ? 'block' : 'none';\n",
              "\n",
              "      async function convertToInteractive(key) {\n",
              "        const element = document.querySelector('#df-00341b14-2bf2-4b71-943f-5659d5943c69');\n",
              "        const dataTable =\n",
              "          await google.colab.kernel.invokeFunction('convertToInteractive',\n",
              "                                                    [key], {});\n",
              "        if (!dataTable) return;\n",
              "\n",
              "        const docLinkHtml = 'Like what you see? Visit the ' +\n",
              "          '<a target=\"_blank\" href=https://colab.research.google.com/notebooks/data_table.ipynb>data table notebook</a>'\n",
              "          + ' to learn more about interactive tables.';\n",
              "        element.innerHTML = '';\n",
              "        dataTable['output_type'] = 'display_data';\n",
              "        await google.colab.output.renderOutput(dataTable, element);\n",
              "        const docLink = document.createElement('div');\n",
              "        docLink.innerHTML = docLinkHtml;\n",
              "        element.appendChild(docLink);\n",
              "      }\n",
              "    </script>\n",
              "  </div>\n",
              "\n",
              "\n",
              "<div id=\"df-cd49641f-4fe4-41cd-a593-eb675cce337d\">\n",
              "  <button class=\"colab-df-quickchart\" onclick=\"quickchart('df-cd49641f-4fe4-41cd-a593-eb675cce337d')\"\n",
              "            title=\"Suggest charts\"\n",
              "            style=\"display:none;\">\n",
              "\n",
              "<svg xmlns=\"http://www.w3.org/2000/svg\" height=\"24px\"viewBox=\"0 0 24 24\"\n",
              "     width=\"24px\">\n",
              "    <g>\n",
              "        <path d=\"M19 3H5c-1.1 0-2 .9-2 2v14c0 1.1.9 2 2 2h14c1.1 0 2-.9 2-2V5c0-1.1-.9-2-2-2zM9 17H7v-7h2v7zm4 0h-2V7h2v10zm4 0h-2v-4h2v4z\"/>\n",
              "    </g>\n",
              "</svg>\n",
              "  </button>\n",
              "\n",
              "<style>\n",
              "  .colab-df-quickchart {\n",
              "      --bg-color: #E8F0FE;\n",
              "      --fill-color: #1967D2;\n",
              "      --hover-bg-color: #E2EBFA;\n",
              "      --hover-fill-color: #174EA6;\n",
              "      --disabled-fill-color: #AAA;\n",
              "      --disabled-bg-color: #DDD;\n",
              "  }\n",
              "\n",
              "  [theme=dark] .colab-df-quickchart {\n",
              "      --bg-color: #3B4455;\n",
              "      --fill-color: #D2E3FC;\n",
              "      --hover-bg-color: #434B5C;\n",
              "      --hover-fill-color: #FFFFFF;\n",
              "      --disabled-bg-color: #3B4455;\n",
              "      --disabled-fill-color: #666;\n",
              "  }\n",
              "\n",
              "  .colab-df-quickchart {\n",
              "    background-color: var(--bg-color);\n",
              "    border: none;\n",
              "    border-radius: 50%;\n",
              "    cursor: pointer;\n",
              "    display: none;\n",
              "    fill: var(--fill-color);\n",
              "    height: 32px;\n",
              "    padding: 0;\n",
              "    width: 32px;\n",
              "  }\n",
              "\n",
              "  .colab-df-quickchart:hover {\n",
              "    background-color: var(--hover-bg-color);\n",
              "    box-shadow: 0 1px 2px rgba(60, 64, 67, 0.3), 0 1px 3px 1px rgba(60, 64, 67, 0.15);\n",
              "    fill: var(--button-hover-fill-color);\n",
              "  }\n",
              "\n",
              "  .colab-df-quickchart-complete:disabled,\n",
              "  .colab-df-quickchart-complete:disabled:hover {\n",
              "    background-color: var(--disabled-bg-color);\n",
              "    fill: var(--disabled-fill-color);\n",
              "    box-shadow: none;\n",
              "  }\n",
              "\n",
              "  .colab-df-spinner {\n",
              "    border: 2px solid var(--fill-color);\n",
              "    border-color: transparent;\n",
              "    border-bottom-color: var(--fill-color);\n",
              "    animation:\n",
              "      spin 1s steps(1) infinite;\n",
              "  }\n",
              "\n",
              "  @keyframes spin {\n",
              "    0% {\n",
              "      border-color: transparent;\n",
              "      border-bottom-color: var(--fill-color);\n",
              "      border-left-color: var(--fill-color);\n",
              "    }\n",
              "    20% {\n",
              "      border-color: transparent;\n",
              "      border-left-color: var(--fill-color);\n",
              "      border-top-color: var(--fill-color);\n",
              "    }\n",
              "    30% {\n",
              "      border-color: transparent;\n",
              "      border-left-color: var(--fill-color);\n",
              "      border-top-color: var(--fill-color);\n",
              "      border-right-color: var(--fill-color);\n",
              "    }\n",
              "    40% {\n",
              "      border-color: transparent;\n",
              "      border-right-color: var(--fill-color);\n",
              "      border-top-color: var(--fill-color);\n",
              "    }\n",
              "    60% {\n",
              "      border-color: transparent;\n",
              "      border-right-color: var(--fill-color);\n",
              "    }\n",
              "    80% {\n",
              "      border-color: transparent;\n",
              "      border-right-color: var(--fill-color);\n",
              "      border-bottom-color: var(--fill-color);\n",
              "    }\n",
              "    90% {\n",
              "      border-color: transparent;\n",
              "      border-bottom-color: var(--fill-color);\n",
              "    }\n",
              "  }\n",
              "</style>\n",
              "\n",
              "  <script>\n",
              "    async function quickchart(key) {\n",
              "      const quickchartButtonEl =\n",
              "        document.querySelector('#' + key + ' button');\n",
              "      quickchartButtonEl.disabled = true;  // To prevent multiple clicks.\n",
              "      quickchartButtonEl.classList.add('colab-df-spinner');\n",
              "      try {\n",
              "        const charts = await google.colab.kernel.invokeFunction(\n",
              "            'suggestCharts', [key], {});\n",
              "      } catch (error) {\n",
              "        console.error('Error during call to suggestCharts:', error);\n",
              "      }\n",
              "      quickchartButtonEl.classList.remove('colab-df-spinner');\n",
              "      quickchartButtonEl.classList.add('colab-df-quickchart-complete');\n",
              "    }\n",
              "    (() => {\n",
              "      let quickchartButtonEl =\n",
              "        document.querySelector('#df-cd49641f-4fe4-41cd-a593-eb675cce337d button');\n",
              "      quickchartButtonEl.style.display =\n",
              "        google.colab.kernel.accessAllowed ? 'block' : 'none';\n",
              "    })();\n",
              "  </script>\n",
              "</div>\n",
              "\n",
              "    </div>\n",
              "  </div>\n"
            ],
            "application/vnd.google.colaboratory.intrinsic+json": {
              "type": "dataframe",
              "summary": "{\n  \"name\": \"show_table_and_graphs(formula='BaTiO3')\",\n  \"rows\": 12,\n  \"fields\": [\n    {\n      \"column\": \"name\",\n      \"properties\": {\n        \"dtype\": \"string\",\n        \"num_unique_values\": 12,\n        \"samples\": [\n          \"oqmd-92710\",\n          \"oqmd-680271\",\n          \"oqmd-13238\"\n        ],\n        \"semantic_type\": \"\",\n        \"description\": \"\"\n      }\n    },\n    {\n      \"column\": \"formula\",\n      \"properties\": {\n        \"dtype\": \"category\",\n        \"num_unique_values\": 1,\n        \"samples\": [\n          \"BaTiO3\"\n        ],\n        \"semantic_type\": \"\",\n        \"description\": \"\"\n      }\n    },\n    {\n      \"column\": \"spacegroup\",\n      \"properties\": {\n        \"dtype\": \"number\",\n        \"std\": 69,\n        \"min\": 38,\n        \"max\": 221,\n        \"num_unique_values\": 8,\n        \"samples\": [\n          194\n        ],\n        \"semantic_type\": \"\",\n        \"description\": \"\"\n      }\n    },\n    {\n      \"column\": \"nelements\",\n      \"properties\": {\n        \"dtype\": \"number\",\n        \"std\": 0,\n        \"min\": 3,\n        \"max\": 3,\n        \"num_unique_values\": 1,\n        \"samples\": [\n          3\n        ],\n        \"semantic_type\": \"\",\n        \"description\": \"\"\n      }\n    },\n    {\n      \"column\": \"nsites\",\n      \"properties\": {\n        \"dtype\": \"number\",\n        \"std\": 7,\n        \"min\": 5,\n        \"max\": 30,\n        \"num_unique_values\": 4,\n        \"samples\": [\n          30\n        ],\n        \"semantic_type\": \"\",\n        \"description\": \"\"\n      }\n    },\n    {\n      \"column\": \"energy_per_atom\",\n      \"properties\": {\n        \"dtype\": \"number\",\n        \"std\": 0.930629280817953,\n        \"min\": -7.925842616,\n        \"max\": -4.921756036,\n        \"num_unique_values\": 12,\n        \"samples\": [\n          -6.149601366\n        ],\n        \"semantic_type\": \"\",\n        \"description\": \"\"\n      }\n    },\n    {\n      \"column\": \"formation_energy_per_atom\",\n      \"properties\": {\n        \"dtype\": \"number\",\n        \"std\": 0.930629280817953,\n        \"min\": -3.28754836428451,\n        \"max\": -0.283461784284506,\n        \"num_unique_values\": 12,\n        \"samples\": [\n          -1.51130711428451\n        ],\n        \"semantic_type\": \"\",\n        \"description\": \"\"\n      }\n    },\n    {\n      \"column\": \"band_gap\",\n      \"properties\": {\n        \"dtype\": \"number\",\n        \"std\": 1.2577111124675024,\n        \"min\": 0.0,\n        \"max\": 3.336,\n        \"num_unique_values\": 8,\n        \"samples\": [\n          1.773\n        ],\n        \"semantic_type\": \"\",\n        \"description\": \"\"\n      }\n    },\n    {\n      \"column\": \"volume_per_atom\",\n      \"properties\": {\n        \"dtype\": \"number\",\n        \"std\": 2.7445719847275036,\n        \"min\": 12.857921703393322,\n        \"max\": 19.445629614825485,\n        \"num_unique_values\": 12,\n        \"samples\": [\n          16.351563702786006\n        ],\n        \"semantic_type\": \"\",\n        \"description\": \"\"\n      }\n    },\n    {\n      \"column\": \"magnetization_per_atom\",\n      \"properties\": {\n        \"dtype\": \"number\",\n        \"std\": 0.030747605748310824,\n        \"min\": 1.4880000000000002e-05,\n        \"max\": 0.10782248,\n        \"num_unique_values\": 12,\n        \"samples\": [\n          0.10782248\n        ],\n        \"semantic_type\": \"\",\n        \"description\": \"\"\n      }\n    },\n    {\n      \"column\": \"atomic_volume_per_atom\",\n      \"properties\": {\n        \"dtype\": \"number\",\n        \"std\": 0.0,\n        \"min\": 18.41210296753405,\n        \"max\": 18.41210296753405,\n        \"num_unique_values\": 1,\n        \"samples\": [\n          18.41210296753405\n        ],\n        \"semantic_type\": \"\",\n        \"description\": \"\"\n      }\n    },\n    {\n      \"column\": \"volume_deviation\",\n      \"properties\": {\n        \"dtype\": \"number\",\n        \"std\": 0.20238028608688757,\n        \"min\": -0.4319657089430657,\n        \"max\": 0.05314955945183,\n        \"num_unique_values\": 12,\n        \"samples\": [\n          -0.1260148143750292\n        ],\n        \"semantic_type\": \"\",\n        \"description\": \"\"\n      }\n    }\n  ]\n}"
            }
          },
          "metadata": {}
        },
        {
          "output_type": "display_data",
          "data": {
            "text/plain": [
              "HBox(children=(VBox(children=(HTML(value='oqmd-13238'), Image(value=b'\\x89PNG\\r\\n\\x1a\\n\\x00\\x00\\x00\\rIHDR\\x00\\…"
            ],
            "application/vnd.jupyter.widget-view+json": {
              "version_major": 2,
              "version_minor": 0,
              "model_id": "84c8b5bf52f742aba68e0315b7c97fae"
            }
          },
          "metadata": {}
        }
      ]
    }
  ]
}